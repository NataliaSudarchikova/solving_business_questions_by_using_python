{
 "cells": [
  {
   "cell_type": "code",
   "execution_count": 310,
   "id": "28bfd040-5a2e-47c1-848d-369fb162778d",
   "metadata": {},
   "outputs": [],
   "source": [
    "import pandas as pd\n",
    "import seaborn as sns\n",
    "import numpy as np"
   ]
  },
  {
   "cell_type": "code",
   "execution_count": 311,
   "id": "8c0dba39-9501-47db-99bd-4e5bc538cc65",
   "metadata": {},
   "outputs": [],
   "source": [
    "products_cl = pd.read_csv (\"C:/Users/m218101/Desktop/WBS_Coding_school/Course/Python/Project_Eniac_discounts/cleaned_data/products_cl.csv\")"
   ]
  },
  {
   "cell_type": "code",
   "execution_count": 312,
   "id": "779efacd-0c99-4b95-b9ce-4bf2d76727d1",
   "metadata": {},
   "outputs": [],
   "source": [
    "orders_qu = pd.read_csv (\"C:/Users/m218101/Desktop/WBS_Coding_school/Course/Python/Project_Eniac_discounts/cleaned_data/cleaned_and_qualitychecked_data/orders_qu.csv\")"
   ]
  },
  {
   "cell_type": "code",
   "execution_count": 313,
   "id": "801a023e-da40-4a31-97f0-b3c5b0585b0b",
   "metadata": {},
   "outputs": [],
   "source": [
    "orderlines_qu = pd.read_csv (\"C:/Users/m218101/Desktop/WBS_Coding_school/Course/Python/Project_Eniac_discounts/cleaned_data/cleaned_and_qualitychecked_data/orderlines_qu.csv\")"
   ]
  },
  {
   "cell_type": "code",
   "execution_count": 314,
   "id": "33516611-31ff-4675-bb74-ba780b222e5b",
   "metadata": {},
   "outputs": [
    {
     "name": "stdout",
     "output_type": "stream",
     "text": [
      "<class 'pandas.core.frame.DataFrame'>\n",
      "RangeIndex: 53231 entries, 0 to 53230\n",
      "Data columns (total 8 columns):\n",
      " #   Column            Non-Null Count  Dtype  \n",
      "---  ------            --------------  -----  \n",
      " 0   id                53231 non-null  int64  \n",
      " 1   id_order          53231 non-null  int64  \n",
      " 2   product_id        53231 non-null  int64  \n",
      " 3   product_quantity  53231 non-null  int64  \n",
      " 4   sku               53231 non-null  object \n",
      " 5   unit_price        53231 non-null  float64\n",
      " 6   date              53231 non-null  object \n",
      " 7   unit_price_total  53231 non-null  float64\n",
      "dtypes: float64(2), int64(4), object(2)\n",
      "memory usage: 3.2+ MB\n"
     ]
    }
   ],
   "source": [
    "orderlines_qu.info()"
   ]
  },
  {
   "cell_type": "code",
   "execution_count": 315,
   "id": "b48619f3-cbeb-47a9-be4d-8c8cf707531e",
   "metadata": {},
   "outputs": [
    {
     "name": "stdout",
     "output_type": "stream",
     "text": [
      "<class 'pandas.core.frame.DataFrame'>\n",
      "RangeIndex: 9992 entries, 0 to 9991\n",
      "Data columns (total 6 columns):\n",
      " #   Column    Non-Null Count  Dtype  \n",
      "---  ------    --------------  -----  \n",
      " 0   sku       9992 non-null   object \n",
      " 1   name      9992 non-null   object \n",
      " 2   desc      9992 non-null   object \n",
      " 3   price     9992 non-null   float64\n",
      " 4   in_stock  9992 non-null   int64  \n",
      " 5   type      9946 non-null   object \n",
      "dtypes: float64(1), int64(1), object(4)\n",
      "memory usage: 468.5+ KB\n"
     ]
    }
   ],
   "source": [
    "products_cl.info()"
   ]
  },
  {
   "cell_type": "code",
   "execution_count": 316,
   "id": "afaf9f3b-fd91-4f5e-946b-1dcbd981d593",
   "metadata": {},
   "outputs": [
    {
     "name": "stdout",
     "output_type": "stream",
     "text": [
      "<class 'pandas.core.frame.DataFrame'>\n",
      "RangeIndex: 40985 entries, 0 to 40984\n",
      "Data columns (total 4 columns):\n",
      " #   Column        Non-Null Count  Dtype  \n",
      "---  ------        --------------  -----  \n",
      " 0   order_id      40985 non-null  int64  \n",
      " 1   created_date  40985 non-null  object \n",
      " 2   total_paid    40985 non-null  float64\n",
      " 3   state         40985 non-null  object \n",
      "dtypes: float64(1), int64(1), object(2)\n",
      "memory usage: 1.3+ MB\n"
     ]
    }
   ],
   "source": [
    "orders_qu.info()"
   ]
  },
  {
   "cell_type": "code",
   "execution_count": 317,
   "id": "c7d20166-6149-4720-896b-2f93cb3b45c6",
   "metadata": {},
   "outputs": [],
   "source": [
    "orderlines_products_merge = orderlines_qu.merge(products_cl, how='inner', on='sku')"
   ]
  },
  {
   "cell_type": "code",
   "execution_count": 318,
   "id": "fa1b859e-135f-4294-aa9e-d2d76d01da11",
   "metadata": {},
   "outputs": [],
   "source": [
    "ol_pr_o = orderlines_products_merge.merge(orders_qu, how='inner', left_on='id_order', right_on='order_id')"
   ]
  },
  {
   "cell_type": "code",
   "execution_count": 319,
   "id": "2fd69e9b-d65c-4cc9-b798-8e01ca726c92",
   "metadata": {},
   "outputs": [
    {
     "data": {
      "text/html": [
       "<div>\n",
       "<style scoped>\n",
       "    .dataframe tbody tr th:only-of-type {\n",
       "        vertical-align: middle;\n",
       "    }\n",
       "\n",
       "    .dataframe tbody tr th {\n",
       "        vertical-align: top;\n",
       "    }\n",
       "\n",
       "    .dataframe thead th {\n",
       "        text-align: right;\n",
       "    }\n",
       "</style>\n",
       "<table border=\"1\" class=\"dataframe\">\n",
       "  <thead>\n",
       "    <tr style=\"text-align: right;\">\n",
       "      <th></th>\n",
       "      <th>id</th>\n",
       "      <th>id_order</th>\n",
       "      <th>product_id</th>\n",
       "      <th>product_quantity</th>\n",
       "      <th>sku</th>\n",
       "      <th>unit_price</th>\n",
       "      <th>date</th>\n",
       "      <th>unit_price_total</th>\n",
       "      <th>name</th>\n",
       "      <th>desc</th>\n",
       "      <th>price</th>\n",
       "      <th>in_stock</th>\n",
       "      <th>type</th>\n",
       "      <th>order_id</th>\n",
       "      <th>created_date</th>\n",
       "      <th>total_paid</th>\n",
       "      <th>state</th>\n",
       "    </tr>\n",
       "  </thead>\n",
       "  <tbody>\n",
       "    <tr>\n",
       "      <th>0</th>\n",
       "      <td>1119116</td>\n",
       "      <td>299545</td>\n",
       "      <td>0</td>\n",
       "      <td>1</td>\n",
       "      <td>OWC0100</td>\n",
       "      <td>47.49</td>\n",
       "      <td>2017-01-01 01:46:16</td>\n",
       "      <td>47.49</td>\n",
       "      <td>OWC In-line Digital Temperature Sensor Kit HDD...</td>\n",
       "      <td>Kit temperature sensor for HDD iMac 21 inch an...</td>\n",
       "      <td>60.99</td>\n",
       "      <td>1</td>\n",
       "      <td>12755395</td>\n",
       "      <td>299545</td>\n",
       "      <td>2017-01-01 01:51:47</td>\n",
       "      <td>51.48</td>\n",
       "      <td>Completed</td>\n",
       "    </tr>\n",
       "  </tbody>\n",
       "</table>\n",
       "</div>"
      ],
      "text/plain": [
       "        id  id_order  product_id  product_quantity      sku  unit_price  \\\n",
       "0  1119116    299545           0                 1  OWC0100       47.49   \n",
       "\n",
       "                  date  unit_price_total  \\\n",
       "0  2017-01-01 01:46:16             47.49   \n",
       "\n",
       "                                                name  \\\n",
       "0  OWC In-line Digital Temperature Sensor Kit HDD...   \n",
       "\n",
       "                                                desc  price  in_stock  \\\n",
       "0  Kit temperature sensor for HDD iMac 21 inch an...  60.99         1   \n",
       "\n",
       "       type  order_id         created_date  total_paid      state  \n",
       "0  12755395    299545  2017-01-01 01:51:47       51.48  Completed  "
      ]
     },
     "execution_count": 319,
     "metadata": {},
     "output_type": "execute_result"
    }
   ],
   "source": [
    "ol_pr_o.head(1)"
   ]
  },
  {
   "cell_type": "code",
   "execution_count": 320,
   "id": "ea68e728-b095-46ee-adcc-a2b384096556",
   "metadata": {},
   "outputs": [],
   "source": [
    "ol_pr_o = ol_pr_o.drop(columns=['id', 'product_id', 'in_stock', 'order_id'])"
   ]
  },
  {
   "cell_type": "code",
   "execution_count": 321,
   "id": "b0070d9b-9fde-46af-b87b-ac63b63787d7",
   "metadata": {
    "tags": []
   },
   "outputs": [],
   "source": [
    "ol_pr_o[\"discounts\"] = ol_pr_o[\"price\"] - ol_pr_o[\"unit_price\"]"
   ]
  },
  {
   "cell_type": "code",
   "execution_count": 322,
   "id": "dfcf0e28-0c4d-48f9-a4c4-9b9f6f367c42",
   "metadata": {},
   "outputs": [],
   "source": [
    "ol_pr_o[\"discounts_%\"] = (ol_pr_o[\"price\"] - ol_pr_o[\"unit_price\"])/ol_pr_o[\"price\"]*100"
   ]
  },
  {
   "cell_type": "code",
   "execution_count": 323,
   "id": "658cf0a9-6829-416f-99b9-8c5f0dc5e888",
   "metadata": {},
   "outputs": [
    {
     "data": {
      "text/html": [
       "<div>\n",
       "<style scoped>\n",
       "    .dataframe tbody tr th:only-of-type {\n",
       "        vertical-align: middle;\n",
       "    }\n",
       "\n",
       "    .dataframe tbody tr th {\n",
       "        vertical-align: top;\n",
       "    }\n",
       "\n",
       "    .dataframe thead th {\n",
       "        text-align: right;\n",
       "    }\n",
       "</style>\n",
       "<table border=\"1\" class=\"dataframe\">\n",
       "  <thead>\n",
       "    <tr style=\"text-align: right;\">\n",
       "      <th></th>\n",
       "      <th>id_order</th>\n",
       "      <th>product_quantity</th>\n",
       "      <th>sku</th>\n",
       "      <th>unit_price</th>\n",
       "      <th>date</th>\n",
       "      <th>unit_price_total</th>\n",
       "      <th>name</th>\n",
       "      <th>desc</th>\n",
       "      <th>price</th>\n",
       "      <th>type</th>\n",
       "      <th>created_date</th>\n",
       "      <th>total_paid</th>\n",
       "      <th>state</th>\n",
       "      <th>discounts</th>\n",
       "      <th>discounts_%</th>\n",
       "    </tr>\n",
       "  </thead>\n",
       "  <tbody>\n",
       "    <tr>\n",
       "      <th>45066</th>\n",
       "      <td>382526</td>\n",
       "      <td>1</td>\n",
       "      <td>PAC2067</td>\n",
       "      <td>479.0</td>\n",
       "      <td>2017-07-26 19:41:00</td>\n",
       "      <td>479.0</td>\n",
       "      <td>Second hand - Apple iMac 24 \"Core 2 Duo 28 GHz...</td>\n",
       "      <td>Computer Refurbished iMac 24 inch Core 2 Duo 2...</td>\n",
       "      <td>1799.0</td>\n",
       "      <td>1282</td>\n",
       "      <td>2017-07-30 13:05:09</td>\n",
       "      <td>479.0</td>\n",
       "      <td>Completed</td>\n",
       "      <td>1320.0</td>\n",
       "      <td>73.374097</td>\n",
       "    </tr>\n",
       "    <tr>\n",
       "      <th>42743</th>\n",
       "      <td>364414</td>\n",
       "      <td>1</td>\n",
       "      <td>PAC2071</td>\n",
       "      <td>489.0</td>\n",
       "      <td>2017-06-11 12:34:44</td>\n",
       "      <td>489.0</td>\n",
       "      <td>Second hand - Apple iMac 24 \"Core 2 Duo 28 GHz...</td>\n",
       "      <td>Computer Refurbished iMac 24 inch Core 2 Duo 2...</td>\n",
       "      <td>1799.0</td>\n",
       "      <td>1282</td>\n",
       "      <td>2017-06-11 12:45:07</td>\n",
       "      <td>489.0</td>\n",
       "      <td>Completed</td>\n",
       "      <td>1310.0</td>\n",
       "      <td>72.818232</td>\n",
       "    </tr>\n",
       "    <tr>\n",
       "      <th>41759</th>\n",
       "      <td>357485</td>\n",
       "      <td>1</td>\n",
       "      <td>PAC2065</td>\n",
       "      <td>499.0</td>\n",
       "      <td>2017-05-20 07:18:41</td>\n",
       "      <td>499.0</td>\n",
       "      <td>Second hand - Apple iMac 24 \"Core 2 Duo 28 GHz...</td>\n",
       "      <td>Computer Refurbished iMac 24 inch Core 2 Duo 2...</td>\n",
       "      <td>1799.0</td>\n",
       "      <td>1282</td>\n",
       "      <td>2017-05-20 07:22:22</td>\n",
       "      <td>499.0</td>\n",
       "      <td>Completed</td>\n",
       "      <td>1300.0</td>\n",
       "      <td>72.262368</td>\n",
       "    </tr>\n",
       "  </tbody>\n",
       "</table>\n",
       "</div>"
      ],
      "text/plain": [
       "       id_order  product_quantity      sku  unit_price                 date  \\\n",
       "45066    382526                 1  PAC2067       479.0  2017-07-26 19:41:00   \n",
       "42743    364414                 1  PAC2071       489.0  2017-06-11 12:34:44   \n",
       "41759    357485                 1  PAC2065       499.0  2017-05-20 07:18:41   \n",
       "\n",
       "       unit_price_total                                               name  \\\n",
       "45066             479.0  Second hand - Apple iMac 24 \"Core 2 Duo 28 GHz...   \n",
       "42743             489.0  Second hand - Apple iMac 24 \"Core 2 Duo 28 GHz...   \n",
       "41759             499.0  Second hand - Apple iMac 24 \"Core 2 Duo 28 GHz...   \n",
       "\n",
       "                                                    desc   price  type  \\\n",
       "45066  Computer Refurbished iMac 24 inch Core 2 Duo 2...  1799.0  1282   \n",
       "42743  Computer Refurbished iMac 24 inch Core 2 Duo 2...  1799.0  1282   \n",
       "41759  Computer Refurbished iMac 24 inch Core 2 Duo 2...  1799.0  1282   \n",
       "\n",
       "              created_date  total_paid      state  discounts  discounts_%  \n",
       "45066  2017-07-30 13:05:09       479.0  Completed     1320.0    73.374097  \n",
       "42743  2017-06-11 12:45:07       489.0  Completed     1310.0    72.818232  \n",
       "41759  2017-05-20 07:22:22       499.0  Completed     1300.0    72.262368  "
      ]
     },
     "execution_count": 323,
     "metadata": {},
     "output_type": "execute_result"
    }
   ],
   "source": [
    "ol_pr_o.nlargest(3, \"discounts\").head(3)"
   ]
  },
  {
   "cell_type": "code",
   "execution_count": 324,
   "id": "ed1b7f07-92d1-49b2-ad69-5c913bae6d72",
   "metadata": {},
   "outputs": [],
   "source": [
    "ol_pr_o['created_date'] = pd.to_datetime(ol_pr_o['created_date'])"
   ]
  },
  {
   "cell_type": "code",
   "execution_count": 325,
   "id": "5bd21624-48d4-497a-9121-8486b5ea7664",
   "metadata": {},
   "outputs": [
    {
     "data": {
      "text/html": [
       "<div>\n",
       "<style scoped>\n",
       "    .dataframe tbody tr th:only-of-type {\n",
       "        vertical-align: middle;\n",
       "    }\n",
       "\n",
       "    .dataframe tbody tr th {\n",
       "        vertical-align: top;\n",
       "    }\n",
       "\n",
       "    .dataframe thead th {\n",
       "        text-align: right;\n",
       "    }\n",
       "</style>\n",
       "<table border=\"1\" class=\"dataframe\">\n",
       "  <thead>\n",
       "    <tr style=\"text-align: right;\">\n",
       "      <th></th>\n",
       "      <th>created_date</th>\n",
       "      <th>total_paid</th>\n",
       "    </tr>\n",
       "  </thead>\n",
       "  <tbody>\n",
       "    <tr>\n",
       "      <th>0</th>\n",
       "      <td>2017-01-31</td>\n",
       "      <td>965497.01</td>\n",
       "    </tr>\n",
       "    <tr>\n",
       "      <th>1</th>\n",
       "      <td>2017-02-28</td>\n",
       "      <td>502759.78</td>\n",
       "    </tr>\n",
       "    <tr>\n",
       "      <th>2</th>\n",
       "      <td>2017-03-31</td>\n",
       "      <td>37371.60</td>\n",
       "    </tr>\n",
       "    <tr>\n",
       "      <th>3</th>\n",
       "      <td>2017-04-30</td>\n",
       "      <td>338744.21</td>\n",
       "    </tr>\n",
       "    <tr>\n",
       "      <th>4</th>\n",
       "      <td>2017-05-31</td>\n",
       "      <td>483150.68</td>\n",
       "    </tr>\n",
       "    <tr>\n",
       "      <th>5</th>\n",
       "      <td>2017-06-30</td>\n",
       "      <td>448151.08</td>\n",
       "    </tr>\n",
       "    <tr>\n",
       "      <th>6</th>\n",
       "      <td>2017-07-31</td>\n",
       "      <td>905412.61</td>\n",
       "    </tr>\n",
       "    <tr>\n",
       "      <th>7</th>\n",
       "      <td>2017-08-31</td>\n",
       "      <td>545302.26</td>\n",
       "    </tr>\n",
       "    <tr>\n",
       "      <th>8</th>\n",
       "      <td>2017-09-30</td>\n",
       "      <td>592130.14</td>\n",
       "    </tr>\n",
       "    <tr>\n",
       "      <th>9</th>\n",
       "      <td>2017-10-31</td>\n",
       "      <td>826079.22</td>\n",
       "    </tr>\n",
       "    <tr>\n",
       "      <th>10</th>\n",
       "      <td>2017-11-30</td>\n",
       "      <td>2351984.13</td>\n",
       "    </tr>\n",
       "    <tr>\n",
       "      <th>11</th>\n",
       "      <td>2017-12-31</td>\n",
       "      <td>1420689.10</td>\n",
       "    </tr>\n",
       "    <tr>\n",
       "      <th>12</th>\n",
       "      <td>2018-01-31</td>\n",
       "      <td>1305311.90</td>\n",
       "    </tr>\n",
       "    <tr>\n",
       "      <th>13</th>\n",
       "      <td>2018-02-28</td>\n",
       "      <td>766375.76</td>\n",
       "    </tr>\n",
       "    <tr>\n",
       "      <th>14</th>\n",
       "      <td>2018-03-31</td>\n",
       "      <td>314727.08</td>\n",
       "    </tr>\n",
       "  </tbody>\n",
       "</table>\n",
       "</div>"
      ],
      "text/plain": [
       "   created_date  total_paid\n",
       "0    2017-01-31   965497.01\n",
       "1    2017-02-28   502759.78\n",
       "2    2017-03-31    37371.60\n",
       "3    2017-04-30   338744.21\n",
       "4    2017-05-31   483150.68\n",
       "5    2017-06-30   448151.08\n",
       "6    2017-07-31   905412.61\n",
       "7    2017-08-31   545302.26\n",
       "8    2017-09-30   592130.14\n",
       "9    2017-10-31   826079.22\n",
       "10   2017-11-30  2351984.13\n",
       "11   2017-12-31  1420689.10\n",
       "12   2018-01-31  1305311.90\n",
       "13   2018-02-28   766375.76\n",
       "14   2018-03-31   314727.08"
      ]
     },
     "execution_count": 325,
     "metadata": {},
     "output_type": "execute_result"
    }
   ],
   "source": [
    "total_paid_sum_month = ol_pr_o.resample('M', on='created_date')['total_paid'].sum().reset_index()\n",
    "total_paid_sum_month"
   ]
  },
  {
   "cell_type": "code",
   "execution_count": 326,
   "id": "79fd4d46-0fa7-4385-8713-5a961fb1589c",
   "metadata": {},
   "outputs": [
    {
     "data": {
      "text/html": [
       "<div>\n",
       "<style scoped>\n",
       "    .dataframe tbody tr th:only-of-type {\n",
       "        vertical-align: middle;\n",
       "    }\n",
       "\n",
       "    .dataframe tbody tr th {\n",
       "        vertical-align: top;\n",
       "    }\n",
       "\n",
       "    .dataframe thead th {\n",
       "        text-align: right;\n",
       "    }\n",
       "</style>\n",
       "<table border=\"1\" class=\"dataframe\">\n",
       "  <thead>\n",
       "    <tr style=\"text-align: right;\">\n",
       "      <th></th>\n",
       "      <th>created_date</th>\n",
       "      <th>total_paid</th>\n",
       "      <th>id_order</th>\n",
       "    </tr>\n",
       "  </thead>\n",
       "  <tbody>\n",
       "    <tr>\n",
       "      <th>0</th>\n",
       "      <td>2017-01</td>\n",
       "      <td>965497.01</td>\n",
       "      <td>6008</td>\n",
       "    </tr>\n",
       "    <tr>\n",
       "      <th>1</th>\n",
       "      <td>2017-02</td>\n",
       "      <td>502759.78</td>\n",
       "      <td>2600</td>\n",
       "    </tr>\n",
       "    <tr>\n",
       "      <th>2</th>\n",
       "      <td>2017-03</td>\n",
       "      <td>37371.60</td>\n",
       "      <td>215</td>\n",
       "    </tr>\n",
       "    <tr>\n",
       "      <th>3</th>\n",
       "      <td>2017-04</td>\n",
       "      <td>338744.21</td>\n",
       "      <td>1875</td>\n",
       "    </tr>\n",
       "    <tr>\n",
       "      <th>4</th>\n",
       "      <td>2017-05</td>\n",
       "      <td>483150.68</td>\n",
       "      <td>2148</td>\n",
       "    </tr>\n",
       "    <tr>\n",
       "      <th>5</th>\n",
       "      <td>2017-06</td>\n",
       "      <td>448151.08</td>\n",
       "      <td>1733</td>\n",
       "    </tr>\n",
       "    <tr>\n",
       "      <th>6</th>\n",
       "      <td>2017-07</td>\n",
       "      <td>905412.61</td>\n",
       "      <td>4137</td>\n",
       "    </tr>\n",
       "    <tr>\n",
       "      <th>7</th>\n",
       "      <td>2017-08</td>\n",
       "      <td>545302.26</td>\n",
       "      <td>2702</td>\n",
       "    </tr>\n",
       "    <tr>\n",
       "      <th>8</th>\n",
       "      <td>2017-09</td>\n",
       "      <td>592130.14</td>\n",
       "      <td>2476</td>\n",
       "    </tr>\n",
       "    <tr>\n",
       "      <th>9</th>\n",
       "      <td>2017-10</td>\n",
       "      <td>826079.22</td>\n",
       "      <td>3593</td>\n",
       "    </tr>\n",
       "    <tr>\n",
       "      <th>10</th>\n",
       "      <td>2017-11</td>\n",
       "      <td>2351984.13</td>\n",
       "      <td>8405</td>\n",
       "    </tr>\n",
       "    <tr>\n",
       "      <th>11</th>\n",
       "      <td>2017-12</td>\n",
       "      <td>1420689.10</td>\n",
       "      <td>6073</td>\n",
       "    </tr>\n",
       "    <tr>\n",
       "      <th>12</th>\n",
       "      <td>2018-01</td>\n",
       "      <td>1305311.90</td>\n",
       "      <td>5885</td>\n",
       "    </tr>\n",
       "    <tr>\n",
       "      <th>13</th>\n",
       "      <td>2018-02</td>\n",
       "      <td>766375.76</td>\n",
       "      <td>3738</td>\n",
       "    </tr>\n",
       "    <tr>\n",
       "      <th>14</th>\n",
       "      <td>2018-03</td>\n",
       "      <td>314727.08</td>\n",
       "      <td>1643</td>\n",
       "    </tr>\n",
       "  </tbody>\n",
       "</table>\n",
       "</div>"
      ],
      "text/plain": [
       "   created_date  total_paid  id_order\n",
       "0       2017-01   965497.01      6008\n",
       "1       2017-02   502759.78      2600\n",
       "2       2017-03    37371.60       215\n",
       "3       2017-04   338744.21      1875\n",
       "4       2017-05   483150.68      2148\n",
       "5       2017-06   448151.08      1733\n",
       "6       2017-07   905412.61      4137\n",
       "7       2017-08   545302.26      2702\n",
       "8       2017-09   592130.14      2476\n",
       "9       2017-10   826079.22      3593\n",
       "10      2017-11  2351984.13      8405\n",
       "11      2017-12  1420689.10      6073\n",
       "12      2018-01  1305311.90      5885\n",
       "13      2018-02   766375.76      3738\n",
       "14      2018-03   314727.08      1643"
      ]
     },
     "execution_count": 326,
     "metadata": {},
     "output_type": "execute_result"
    }
   ],
   "source": [
    "total_paid_sum_month_2=(\n",
    "     ol_pr_o\n",
    "    .groupby(ol_pr_o.created_date.dt.strftime(\"%Y-%m\"))\n",
    "    #.agg({'ord_TotlPaid': [('total_rev', 'sum')], 'ORD_ID': [('total_orders', 'count')]})\n",
    "    .agg({'total_paid': 'sum', 'id_order':'count'})\n",
    "    #.agg(total_rev =(\"tmp_ord_Rev\",\"sum\"))\n",
    "    .reset_index()\n",
    ")\n",
    "total_paid_sum_month_2"
   ]
  },
  {
   "cell_type": "code",
   "execution_count": 327,
   "id": "213d84a4-cbe4-4ab9-855f-bea53a805275",
   "metadata": {},
   "outputs": [
    {
     "data": {
      "text/html": [
       "<div>\n",
       "<style scoped>\n",
       "    .dataframe tbody tr th:only-of-type {\n",
       "        vertical-align: middle;\n",
       "    }\n",
       "\n",
       "    .dataframe tbody tr th {\n",
       "        vertical-align: top;\n",
       "    }\n",
       "\n",
       "    .dataframe thead th {\n",
       "        text-align: right;\n",
       "    }\n",
       "</style>\n",
       "<table border=\"1\" class=\"dataframe\">\n",
       "  <thead>\n",
       "    <tr style=\"text-align: right;\">\n",
       "      <th></th>\n",
       "      <th>created_date</th>\n",
       "      <th>total_paid</th>\n",
       "      <th>id_order</th>\n",
       "    </tr>\n",
       "  </thead>\n",
       "  <tbody>\n",
       "    <tr>\n",
       "      <th>0</th>\n",
       "      <td>2017-01</td>\n",
       "      <td>965497.01</td>\n",
       "      <td>6008</td>\n",
       "    </tr>\n",
       "    <tr>\n",
       "      <th>1</th>\n",
       "      <td>2017-02</td>\n",
       "      <td>502759.78</td>\n",
       "      <td>2600</td>\n",
       "    </tr>\n",
       "    <tr>\n",
       "      <th>2</th>\n",
       "      <td>2017-03</td>\n",
       "      <td>37371.60</td>\n",
       "      <td>215</td>\n",
       "    </tr>\n",
       "    <tr>\n",
       "      <th>3</th>\n",
       "      <td>2017-04</td>\n",
       "      <td>338744.21</td>\n",
       "      <td>1875</td>\n",
       "    </tr>\n",
       "    <tr>\n",
       "      <th>4</th>\n",
       "      <td>2017-05</td>\n",
       "      <td>483150.68</td>\n",
       "      <td>2148</td>\n",
       "    </tr>\n",
       "    <tr>\n",
       "      <th>5</th>\n",
       "      <td>2017-06</td>\n",
       "      <td>448151.08</td>\n",
       "      <td>1733</td>\n",
       "    </tr>\n",
       "    <tr>\n",
       "      <th>6</th>\n",
       "      <td>2017-07</td>\n",
       "      <td>905412.61</td>\n",
       "      <td>4137</td>\n",
       "    </tr>\n",
       "    <tr>\n",
       "      <th>7</th>\n",
       "      <td>2017-08</td>\n",
       "      <td>545302.26</td>\n",
       "      <td>2702</td>\n",
       "    </tr>\n",
       "    <tr>\n",
       "      <th>8</th>\n",
       "      <td>2017-09</td>\n",
       "      <td>592130.14</td>\n",
       "      <td>2476</td>\n",
       "    </tr>\n",
       "    <tr>\n",
       "      <th>9</th>\n",
       "      <td>2017-10</td>\n",
       "      <td>826079.22</td>\n",
       "      <td>3593</td>\n",
       "    </tr>\n",
       "    <tr>\n",
       "      <th>10</th>\n",
       "      <td>2017-11</td>\n",
       "      <td>2351984.13</td>\n",
       "      <td>8405</td>\n",
       "    </tr>\n",
       "    <tr>\n",
       "      <th>11</th>\n",
       "      <td>2017-12</td>\n",
       "      <td>1420689.10</td>\n",
       "      <td>6073</td>\n",
       "    </tr>\n",
       "    <tr>\n",
       "      <th>12</th>\n",
       "      <td>2018-01</td>\n",
       "      <td>1305311.90</td>\n",
       "      <td>5885</td>\n",
       "    </tr>\n",
       "    <tr>\n",
       "      <th>13</th>\n",
       "      <td>2018-02</td>\n",
       "      <td>766375.76</td>\n",
       "      <td>3738</td>\n",
       "    </tr>\n",
       "    <tr>\n",
       "      <th>14</th>\n",
       "      <td>2018-03</td>\n",
       "      <td>314727.08</td>\n",
       "      <td>1643</td>\n",
       "    </tr>\n",
       "  </tbody>\n",
       "</table>\n",
       "</div>"
      ],
      "text/plain": [
       "   created_date  total_paid  id_order\n",
       "0       2017-01   965497.01      6008\n",
       "1       2017-02   502759.78      2600\n",
       "2       2017-03    37371.60       215\n",
       "3       2017-04   338744.21      1875\n",
       "4       2017-05   483150.68      2148\n",
       "5       2017-06   448151.08      1733\n",
       "6       2017-07   905412.61      4137\n",
       "7       2017-08   545302.26      2702\n",
       "8       2017-09   592130.14      2476\n",
       "9       2017-10   826079.22      3593\n",
       "10      2017-11  2351984.13      8405\n",
       "11      2017-12  1420689.10      6073\n",
       "12      2018-01  1305311.90      5885\n",
       "13      2018-02   766375.76      3738\n",
       "14      2018-03   314727.08      1643"
      ]
     },
     "execution_count": 327,
     "metadata": {},
     "output_type": "execute_result"
    }
   ],
   "source": [
    "total_paid_sum_month3=ol_pr_o.groupby(ol_pr_o.created_date.dt.strftime(\"%Y-%m\")).agg({'total_paid': 'sum', 'id_order':'count'}).reset_index()\n",
    "total_paid_sum_month3"
   ]
  },
  {
   "cell_type": "code",
   "execution_count": 328,
   "id": "89858998-f90d-4ed3-92a8-e350a364882a",
   "metadata": {},
   "outputs": [
    {
     "data": {
      "text/html": [
       "<div>\n",
       "<style scoped>\n",
       "    .dataframe tbody tr th:only-of-type {\n",
       "        vertical-align: middle;\n",
       "    }\n",
       "\n",
       "    .dataframe tbody tr th {\n",
       "        vertical-align: top;\n",
       "    }\n",
       "\n",
       "    .dataframe thead th {\n",
       "        text-align: right;\n",
       "    }\n",
       "</style>\n",
       "<table border=\"1\" class=\"dataframe\">\n",
       "  <thead>\n",
       "    <tr style=\"text-align: right;\">\n",
       "      <th></th>\n",
       "      <th>created_date</th>\n",
       "      <th>tps</th>\n",
       "    </tr>\n",
       "  </thead>\n",
       "  <tbody>\n",
       "    <tr>\n",
       "      <th>0</th>\n",
       "      <td>2017-01</td>\n",
       "      <td>965497.01</td>\n",
       "    </tr>\n",
       "    <tr>\n",
       "      <th>1</th>\n",
       "      <td>2017-02</td>\n",
       "      <td>502759.78</td>\n",
       "    </tr>\n",
       "    <tr>\n",
       "      <th>2</th>\n",
       "      <td>2017-03</td>\n",
       "      <td>37371.60</td>\n",
       "    </tr>\n",
       "    <tr>\n",
       "      <th>3</th>\n",
       "      <td>2017-04</td>\n",
       "      <td>338744.21</td>\n",
       "    </tr>\n",
       "    <tr>\n",
       "      <th>4</th>\n",
       "      <td>2017-05</td>\n",
       "      <td>483150.68</td>\n",
       "    </tr>\n",
       "    <tr>\n",
       "      <th>5</th>\n",
       "      <td>2017-06</td>\n",
       "      <td>448151.08</td>\n",
       "    </tr>\n",
       "    <tr>\n",
       "      <th>6</th>\n",
       "      <td>2017-07</td>\n",
       "      <td>905412.61</td>\n",
       "    </tr>\n",
       "    <tr>\n",
       "      <th>7</th>\n",
       "      <td>2017-08</td>\n",
       "      <td>545302.26</td>\n",
       "    </tr>\n",
       "    <tr>\n",
       "      <th>8</th>\n",
       "      <td>2017-09</td>\n",
       "      <td>592130.14</td>\n",
       "    </tr>\n",
       "    <tr>\n",
       "      <th>9</th>\n",
       "      <td>2017-10</td>\n",
       "      <td>826079.22</td>\n",
       "    </tr>\n",
       "    <tr>\n",
       "      <th>10</th>\n",
       "      <td>2017-11</td>\n",
       "      <td>2351984.13</td>\n",
       "    </tr>\n",
       "    <tr>\n",
       "      <th>11</th>\n",
       "      <td>2017-12</td>\n",
       "      <td>1420689.10</td>\n",
       "    </tr>\n",
       "    <tr>\n",
       "      <th>12</th>\n",
       "      <td>2018-01</td>\n",
       "      <td>1305311.90</td>\n",
       "    </tr>\n",
       "    <tr>\n",
       "      <th>13</th>\n",
       "      <td>2018-02</td>\n",
       "      <td>766375.76</td>\n",
       "    </tr>\n",
       "    <tr>\n",
       "      <th>14</th>\n",
       "      <td>2018-03</td>\n",
       "      <td>314727.08</td>\n",
       "    </tr>\n",
       "  </tbody>\n",
       "</table>\n",
       "</div>"
      ],
      "text/plain": [
       "   created_date         tps\n",
       "0       2017-01   965497.01\n",
       "1       2017-02   502759.78\n",
       "2       2017-03    37371.60\n",
       "3       2017-04   338744.21\n",
       "4       2017-05   483150.68\n",
       "5       2017-06   448151.08\n",
       "6       2017-07   905412.61\n",
       "7       2017-08   545302.26\n",
       "8       2017-09   592130.14\n",
       "9       2017-10   826079.22\n",
       "10      2017-11  2351984.13\n",
       "11      2017-12  1420689.10\n",
       "12      2018-01  1305311.90\n",
       "13      2018-02   766375.76\n",
       "14      2018-03   314727.08"
      ]
     },
     "execution_count": 328,
     "metadata": {},
     "output_type": "execute_result"
    }
   ],
   "source": [
    "total_paid_sum_month4= ol_pr_o.groupby(ol_pr_o['created_date'].dt.strftime(\"%Y-%m\")).agg(tps =('total_paid','sum')).reset_index()\n",
    "total_paid_sum_month4"
   ]
  },
  {
   "cell_type": "code",
   "execution_count": 329,
   "id": "8427c5f9-234a-4f2f-b130-5223f140e3cb",
   "metadata": {},
   "outputs": [
    {
     "data": {
      "text/plain": [
       "<seaborn.axisgrid.FacetGrid at 0x1f85dd5f700>"
      ]
     },
     "execution_count": 329,
     "metadata": {},
     "output_type": "execute_result"
    },
    {
     "data": {
      "image/png": "[encoded data removed]",
      "text/plain": [
       "<Figure size 360x360 with 1 Axes>"
      ]
     },
     "metadata": {
      "needs_background": "light"
     },
     "output_type": "display_data"
    }
   ],
   "source": [
    "sns.catplot(kind='bar',\n",
    "            data=total_paid_sum_month,\n",
    "            x='total_paid',\n",
    "            y='created_date')"
   ]
  },
  {
   "cell_type": "code",
   "execution_count": 330,
   "id": "bd9b232f-3347-42c0-a222-da0a18467d4d",
   "metadata": {
    "tags": []
   },
   "outputs": [
    {
     "data": {
      "text/plain": [
       "(53231, 15)"
      ]
     },
     "execution_count": 330,
     "metadata": {},
     "output_type": "execute_result"
    }
   ],
   "source": [
    "ol_pr_o.shape"
   ]
  },
  {
   "cell_type": "code",
   "execution_count": 331,
   "id": "d1dc5f2b-a1b5-4de0-8f51-db68504295d6",
   "metadata": {},
   "outputs": [
    {
     "data": {
      "text/plain": [
       "<AxesSubplot:>"
      ]
     },
     "execution_count": 331,
     "metadata": {},
     "output_type": "execute_result"
    },
    {
     "data": {
      "image/png": "[encoded data removed]",
      "text/plain": [
       "<Figure size 864x360 with 1 Axes>"
      ]
     },
     "metadata": {
      "needs_background": "light"
     },
     "output_type": "display_data"
    }
   ],
   "source": [
    "ol_pr_o[\"discounts\"].plot(figsize=(12,5))"
   ]
  },
  {
   "cell_type": "code",
   "execution_count": 332,
   "id": "3dd94f77-2685-406c-aa7f-564198d8a5e2",
   "metadata": {},
   "outputs": [
    {
     "name": "stdout",
     "output_type": "stream",
     "text": [
      "<class 'pandas.core.frame.DataFrame'>\n",
      "Int64Index: 53231 entries, 0 to 53230\n",
      "Data columns (total 15 columns):\n",
      " #   Column            Non-Null Count  Dtype         \n",
      "---  ------            --------------  -----         \n",
      " 0   id_order          53231 non-null  int64         \n",
      " 1   product_quantity  53231 non-null  int64         \n",
      " 2   sku               53231 non-null  object        \n",
      " 3   unit_price        53231 non-null  float64       \n",
      " 4   date              53231 non-null  object        \n",
      " 5   unit_price_total  53231 non-null  float64       \n",
      " 6   name              53231 non-null  object        \n",
      " 7   desc              53231 non-null  object        \n",
      " 8   price             53231 non-null  float64       \n",
      " 9   type              53220 non-null  object        \n",
      " 10  created_date      53231 non-null  datetime64[ns]\n",
      " 11  total_paid        53231 non-null  float64       \n",
      " 12  state             53231 non-null  object        \n",
      " 13  discounts         53231 non-null  float64       \n",
      " 14  discounts_%       53231 non-null  float64       \n",
      "dtypes: datetime64[ns](1), float64(6), int64(2), object(6)\n",
      "memory usage: 6.5+ MB\n"
     ]
    }
   ],
   "source": [
    "ol_pr_o.info()"
   ]
  },
  {
   "cell_type": "code",
   "execution_count": 333,
   "id": "c1474762-c2d6-4a6d-b5cc-10862bdad05a",
   "metadata": {},
   "outputs": [
    {
     "data": {
      "text/html": [
       "<div>\n",
       "<style scoped>\n",
       "    .dataframe tbody tr th:only-of-type {\n",
       "        vertical-align: middle;\n",
       "    }\n",
       "\n",
       "    .dataframe tbody tr th {\n",
       "        vertical-align: top;\n",
       "    }\n",
       "\n",
       "    .dataframe thead th {\n",
       "        text-align: right;\n",
       "    }\n",
       "</style>\n",
       "<table border=\"1\" class=\"dataframe\">\n",
       "  <thead>\n",
       "    <tr style=\"text-align: right;\">\n",
       "      <th></th>\n",
       "      <th>id_order</th>\n",
       "      <th>product_quantity</th>\n",
       "      <th>sku</th>\n",
       "      <th>unit_price</th>\n",
       "      <th>date</th>\n",
       "      <th>unit_price_total</th>\n",
       "      <th>name</th>\n",
       "      <th>desc</th>\n",
       "      <th>price</th>\n",
       "      <th>created_date</th>\n",
       "      <th>total_paid</th>\n",
       "      <th>state</th>\n",
       "      <th>discounts</th>\n",
       "      <th>discounts_%</th>\n",
       "    </tr>\n",
       "    <tr>\n",
       "      <th>type</th>\n",
       "      <th></th>\n",
       "      <th></th>\n",
       "      <th></th>\n",
       "      <th></th>\n",
       "      <th></th>\n",
       "      <th></th>\n",
       "      <th></th>\n",
       "      <th></th>\n",
       "      <th></th>\n",
       "      <th></th>\n",
       "      <th></th>\n",
       "      <th></th>\n",
       "      <th></th>\n",
       "      <th></th>\n",
       "    </tr>\n",
       "  </thead>\n",
       "  <tbody>\n",
       "    <tr>\n",
       "      <th>1,44E+11</th>\n",
       "      <td>101</td>\n",
       "      <td>101</td>\n",
       "      <td>101</td>\n",
       "      <td>101</td>\n",
       "      <td>101</td>\n",
       "      <td>101</td>\n",
       "      <td>101</td>\n",
       "      <td>101</td>\n",
       "      <td>101</td>\n",
       "      <td>101</td>\n",
       "      <td>101</td>\n",
       "      <td>101</td>\n",
       "      <td>101</td>\n",
       "      <td>101</td>\n",
       "    </tr>\n",
       "    <tr>\n",
       "      <th>10142</th>\n",
       "      <td>802</td>\n",
       "      <td>802</td>\n",
       "      <td>802</td>\n",
       "      <td>802</td>\n",
       "      <td>802</td>\n",
       "      <td>802</td>\n",
       "      <td>802</td>\n",
       "      <td>802</td>\n",
       "      <td>802</td>\n",
       "      <td>802</td>\n",
       "      <td>802</td>\n",
       "      <td>802</td>\n",
       "      <td>802</td>\n",
       "      <td>802</td>\n",
       "    </tr>\n",
       "    <tr>\n",
       "      <th>101781405</th>\n",
       "      <td>102</td>\n",
       "      <td>102</td>\n",
       "      <td>102</td>\n",
       "      <td>102</td>\n",
       "      <td>102</td>\n",
       "      <td>102</td>\n",
       "      <td>102</td>\n",
       "      <td>102</td>\n",
       "      <td>102</td>\n",
       "      <td>102</td>\n",
       "      <td>102</td>\n",
       "      <td>102</td>\n",
       "      <td>102</td>\n",
       "      <td>102</td>\n",
       "    </tr>\n",
       "    <tr>\n",
       "      <th>10230</th>\n",
       "      <td>182</td>\n",
       "      <td>182</td>\n",
       "      <td>182</td>\n",
       "      <td>182</td>\n",
       "      <td>182</td>\n",
       "      <td>182</td>\n",
       "      <td>182</td>\n",
       "      <td>182</td>\n",
       "      <td>182</td>\n",
       "      <td>182</td>\n",
       "      <td>182</td>\n",
       "      <td>182</td>\n",
       "      <td>182</td>\n",
       "      <td>182</td>\n",
       "    </tr>\n",
       "    <tr>\n",
       "      <th>106431714</th>\n",
       "      <td>196</td>\n",
       "      <td>196</td>\n",
       "      <td>196</td>\n",
       "      <td>196</td>\n",
       "      <td>196</td>\n",
       "      <td>196</td>\n",
       "      <td>196</td>\n",
       "      <td>196</td>\n",
       "      <td>196</td>\n",
       "      <td>196</td>\n",
       "      <td>196</td>\n",
       "      <td>196</td>\n",
       "      <td>196</td>\n",
       "      <td>196</td>\n",
       "    </tr>\n",
       "    <tr>\n",
       "      <th>...</th>\n",
       "      <td>...</td>\n",
       "      <td>...</td>\n",
       "      <td>...</td>\n",
       "      <td>...</td>\n",
       "      <td>...</td>\n",
       "      <td>...</td>\n",
       "      <td>...</td>\n",
       "      <td>...</td>\n",
       "      <td>...</td>\n",
       "      <td>...</td>\n",
       "      <td>...</td>\n",
       "      <td>...</td>\n",
       "      <td>...</td>\n",
       "      <td>...</td>\n",
       "    </tr>\n",
       "    <tr>\n",
       "      <th>79201715</th>\n",
       "      <td>3</td>\n",
       "      <td>3</td>\n",
       "      <td>3</td>\n",
       "      <td>3</td>\n",
       "      <td>3</td>\n",
       "      <td>3</td>\n",
       "      <td>3</td>\n",
       "      <td>3</td>\n",
       "      <td>3</td>\n",
       "      <td>3</td>\n",
       "      <td>3</td>\n",
       "      <td>3</td>\n",
       "      <td>3</td>\n",
       "      <td>3</td>\n",
       "    </tr>\n",
       "    <tr>\n",
       "      <th>85641716</th>\n",
       "      <td>300</td>\n",
       "      <td>300</td>\n",
       "      <td>300</td>\n",
       "      <td>300</td>\n",
       "      <td>300</td>\n",
       "      <td>300</td>\n",
       "      <td>300</td>\n",
       "      <td>300</td>\n",
       "      <td>300</td>\n",
       "      <td>300</td>\n",
       "      <td>300</td>\n",
       "      <td>300</td>\n",
       "      <td>300</td>\n",
       "      <td>300</td>\n",
       "    </tr>\n",
       "    <tr>\n",
       "      <th>85651716</th>\n",
       "      <td>182</td>\n",
       "      <td>182</td>\n",
       "      <td>182</td>\n",
       "      <td>182</td>\n",
       "      <td>182</td>\n",
       "      <td>182</td>\n",
       "      <td>182</td>\n",
       "      <td>182</td>\n",
       "      <td>182</td>\n",
       "      <td>182</td>\n",
       "      <td>182</td>\n",
       "      <td>182</td>\n",
       "      <td>182</td>\n",
       "      <td>182</td>\n",
       "    </tr>\n",
       "    <tr>\n",
       "      <th>8696</th>\n",
       "      <td>434</td>\n",
       "      <td>434</td>\n",
       "      <td>434</td>\n",
       "      <td>434</td>\n",
       "      <td>434</td>\n",
       "      <td>434</td>\n",
       "      <td>434</td>\n",
       "      <td>434</td>\n",
       "      <td>434</td>\n",
       "      <td>434</td>\n",
       "      <td>434</td>\n",
       "      <td>434</td>\n",
       "      <td>434</td>\n",
       "      <td>434</td>\n",
       "    </tr>\n",
       "    <tr>\n",
       "      <th>9094</th>\n",
       "      <td>164</td>\n",
       "      <td>164</td>\n",
       "      <td>164</td>\n",
       "      <td>164</td>\n",
       "      <td>164</td>\n",
       "      <td>164</td>\n",
       "      <td>164</td>\n",
       "      <td>164</td>\n",
       "      <td>164</td>\n",
       "      <td>164</td>\n",
       "      <td>164</td>\n",
       "      <td>164</td>\n",
       "      <td>164</td>\n",
       "      <td>164</td>\n",
       "    </tr>\n",
       "  </tbody>\n",
       "</table>\n",
       "<p>114 rows × 14 columns</p>\n",
       "</div>"
      ],
      "text/plain": [
       "           id_order  product_quantity  sku  unit_price  date  \\\n",
       "type                                                           \n",
       "1,44E+11        101               101  101         101   101   \n",
       "10142           802               802  802         802   802   \n",
       "101781405       102               102  102         102   102   \n",
       "10230           182               182  182         182   182   \n",
       "106431714       196               196  196         196   196   \n",
       "...             ...               ...  ...         ...   ...   \n",
       "79201715          3                 3    3           3     3   \n",
       "85641716        300               300  300         300   300   \n",
       "85651716        182               182  182         182   182   \n",
       "8696            434               434  434         434   434   \n",
       "9094            164               164  164         164   164   \n",
       "\n",
       "           unit_price_total  name  desc  price  created_date  total_paid  \\\n",
       "type                                                                       \n",
       "1,44E+11                101   101   101    101           101         101   \n",
       "10142                   802   802   802    802           802         802   \n",
       "101781405               102   102   102    102           102         102   \n",
       "10230                   182   182   182    182           182         182   \n",
       "106431714               196   196   196    196           196         196   \n",
       "...                     ...   ...   ...    ...           ...         ...   \n",
       "79201715                  3     3     3      3             3           3   \n",
       "85641716                300   300   300    300           300         300   \n",
       "85651716                182   182   182    182           182         182   \n",
       "8696                    434   434   434    434           434         434   \n",
       "9094                    164   164   164    164           164         164   \n",
       "\n",
       "           state  discounts  discounts_%  \n",
       "type                                      \n",
       "1,44E+11     101        101          101  \n",
       "10142        802        802          802  \n",
       "101781405    102        102          102  \n",
       "10230        182        182          182  \n",
       "106431714    196        196          196  \n",
       "...          ...        ...          ...  \n",
       "79201715       3          3            3  \n",
       "85641716     300        300          300  \n",
       "85651716     182        182          182  \n",
       "8696         434        434          434  \n",
       "9094         164        164          164  \n",
       "\n",
       "[114 rows x 14 columns]"
      ]
     },
     "execution_count": 333,
     "metadata": {},
     "output_type": "execute_result"
    }
   ],
   "source": [
    "ol_pr_o.groupby(\"type\").count()"
   ]
  },
  {
   "cell_type": "code",
   "execution_count": 334,
   "id": "4eee65bd-0c18-4fc6-9082-e4f95af2cda8",
   "metadata": {},
   "outputs": [],
   "source": [
    "db_types=round(\n",
    "    ol_pr_o.groupby(\"type\")\n",
    "    .agg( unit_price_total_avg=('unit_price_total','mean'),\n",
    "          total_paid_sum=('total_paid','sum'),\n",
    "          price_mean=('price','mean'),\n",
    "          unit_price_mean=('unit_price','mean'),\n",
    "          product_quantity_sum=('product_quantity','sum'),\n",
    "          NumUniqidOrder=('id_order',pd.Series.nunique),\n",
    "          NumUniqsku=('sku',pd.Series.nunique),\n",
    "          Name_longest=('name','max'),\n",
    "          Descr_longest=('desc','max')\n",
    "        )\n",
    "    #.nlargest(10,'product_quantity_sum')\n",
    "    .reset_index()\n",
    ")"
   ]
  },
  {
   "cell_type": "code",
   "execution_count": 335,
   "id": "d03d5a84-7b10-447a-aa7b-9179673af1cd",
   "metadata": {},
   "outputs": [],
   "source": [
    "db_types=(db_types.assign(Discounts_perc_mean = np.where((db_types.price_mean==0.0),100,round\n",
    "                                                          (((db_types.price_mean-db_types.unit_price_mean)/db_types.price_mean)*100,2))))"
   ]
  },
  {
   "cell_type": "code",
   "execution_count": 336,
   "id": "d7299f61-a8f8-4830-8349-c3db7b08008d",
   "metadata": {},
   "outputs": [
    {
     "data": {
      "text/html": [
       "<div>\n",
       "<style scoped>\n",
       "    .dataframe tbody tr th:only-of-type {\n",
       "        vertical-align: middle;\n",
       "    }\n",
       "\n",
       "    .dataframe tbody tr th {\n",
       "        vertical-align: top;\n",
       "    }\n",
       "\n",
       "    .dataframe thead th {\n",
       "        text-align: right;\n",
       "    }\n",
       "</style>\n",
       "<table border=\"1\" class=\"dataframe\">\n",
       "  <thead>\n",
       "    <tr style=\"text-align: right;\">\n",
       "      <th></th>\n",
       "      <th>type</th>\n",
       "      <th>unit_price_total_avg</th>\n",
       "      <th>total_paid_sum</th>\n",
       "      <th>price_mean</th>\n",
       "      <th>unit_price_mean</th>\n",
       "      <th>product_quantity_sum</th>\n",
       "      <th>NumUniqidOrder</th>\n",
       "      <th>NumUniqsku</th>\n",
       "      <th>Name_longest</th>\n",
       "      <th>Descr_longest</th>\n",
       "      <th>Discounts_perc_mean</th>\n",
       "    </tr>\n",
       "  </thead>\n",
       "  <tbody>\n",
       "    <tr>\n",
       "      <th>0</th>\n",
       "      <td>1,44E+11</td>\n",
       "      <td>81.0</td>\n",
       "      <td>10485.0</td>\n",
       "      <td>73.0</td>\n",
       "      <td>81.0</td>\n",
       "      <td>101</td>\n",
       "      <td>93</td>\n",
       "      <td>21</td>\n",
       "      <td>iPhone 5s battery repair</td>\n",
       "      <td>Repair service including parts and labor for i...</td>\n",
       "      <td>-10.96</td>\n",
       "    </tr>\n",
       "    <tr>\n",
       "      <th>1</th>\n",
       "      <td>10142</td>\n",
       "      <td>100.0</td>\n",
       "      <td>117783.0</td>\n",
       "      <td>119.0</td>\n",
       "      <td>95.0</td>\n",
       "      <td>843</td>\n",
       "      <td>790</td>\n",
       "      <td>22</td>\n",
       "      <td>Open - NewerTech NuPower Battery MacBook 13 \"w...</td>\n",
       "      <td>lithium battery and 7.6V 39W MacBook Air 11 in...</td>\n",
       "      <td>20.17</td>\n",
       "    </tr>\n",
       "    <tr>\n",
       "      <th>2</th>\n",
       "      <td>101781405</td>\n",
       "      <td>20.0</td>\n",
       "      <td>6688.0</td>\n",
       "      <td>19.0</td>\n",
       "      <td>18.0</td>\n",
       "      <td>125</td>\n",
       "      <td>100</td>\n",
       "      <td>8</td>\n",
       "      <td>Wacom parts 5 points for CTH670</td>\n",
       "      <td>Wireless Kit Wacom graphics tablets.</td>\n",
       "      <td>5.26</td>\n",
       "    </tr>\n",
       "  </tbody>\n",
       "</table>\n",
       "</div>"
      ],
      "text/plain": [
       "        type  unit_price_total_avg  total_paid_sum  price_mean  \\\n",
       "0   1,44E+11                  81.0         10485.0        73.0   \n",
       "1      10142                 100.0        117783.0       119.0   \n",
       "2  101781405                  20.0          6688.0        19.0   \n",
       "\n",
       "   unit_price_mean  product_quantity_sum  NumUniqidOrder  NumUniqsku  \\\n",
       "0             81.0                   101              93          21   \n",
       "1             95.0                   843             790          22   \n",
       "2             18.0                   125             100           8   \n",
       "\n",
       "                                        Name_longest  \\\n",
       "0                           iPhone 5s battery repair   \n",
       "1  Open - NewerTech NuPower Battery MacBook 13 \"w...   \n",
       "2                    Wacom parts 5 points for CTH670   \n",
       "\n",
       "                                       Descr_longest  Discounts_perc_mean  \n",
       "0  Repair service including parts and labor for i...               -10.96  \n",
       "1  lithium battery and 7.6V 39W MacBook Air 11 in...                20.17  \n",
       "2               Wireless Kit Wacom graphics tablets.                 5.26  "
      ]
     },
     "execution_count": 336,
     "metadata": {},
     "output_type": "execute_result"
    }
   ],
   "source": [
    "db_types.head(3)"
   ]
  },
  {
   "cell_type": "code",
   "execution_count": 337,
   "id": "0fbb6857-9c12-42dd-955f-22f9ad68010c",
   "metadata": {},
   "outputs": [],
   "source": [
    "db_types_my=round(\n",
    "    ol_pr_o.groupby(\"type\")\n",
    "     .agg(discounts_perc_mean=('discounts_%','mean'), \n",
    "          unit_price_total_avg=('unit_price_total','mean'),\n",
    "          total_paid_sum=('total_paid','sum'),\n",
    "          price_mean=('price','mean'),\n",
    "          unit_price_mean=('unit_price','mean'),\n",
    "          product_quantity_sum=('product_quantity','sum'),\n",
    "          NumUniqidOrder=('id_order',pd.Series.nunique),\n",
    "          NumUniqsku=('sku',pd.Series.nunique),\n",
    "          Name_longest=('name','max'),\n",
    "          Descr_longest=('desc','max')\n",
    "        )\n",
    "    #.nlargest(10,'product_quantity_sum')\n",
    "    .reset_index()\n",
    ")"
   ]
  },
  {
   "cell_type": "code",
   "execution_count": 338,
   "id": "d49273e7-2151-47f1-9aa7-2cbe6d82a949",
   "metadata": {},
   "outputs": [],
   "source": [
    "db_types_time=round(\n",
    "    ol_pr_o.groupby([ol_pr_o[\"created_date\"].dt.strftime('%Y-%m'),ol_pr_o[\"type\"]])\n",
    "    .agg( discounts_perc_mean=('discounts_%','mean'),\n",
    "          unit_price_total_avg=('unit_price_total','mean'),\n",
    "          total_paid_sum=('total_paid','sum'),\n",
    "          price_mean=('price','mean'),\n",
    "          unit_price_mean=('unit_price','mean'),\n",
    "          product_quantity_sum=('product_quantity','sum'),\n",
    "          NumUniqidOrder=('id_order',pd.Series.nunique),\n",
    "          NumUniqsku=('sku',pd.Series.nunique),\n",
    "          Name_longest=('name','max'),\n",
    "          Descr_longest=('desc','max')\n",
    "        )\n",
    "    #.nlargest(10,'product_quantity_sum')\n",
    "    .reset_index()\n",
    ")"
   ]
  },
  {
   "cell_type": "code",
   "execution_count": 339,
   "id": "f2c25f2d-b5b6-4564-b591-46a6ec636ec4",
   "metadata": {},
   "outputs": [
    {
     "data": {
      "text/html": [
       "<div>\n",
       "<style scoped>\n",
       "    .dataframe tbody tr th:only-of-type {\n",
       "        vertical-align: middle;\n",
       "    }\n",
       "\n",
       "    .dataframe tbody tr th {\n",
       "        vertical-align: top;\n",
       "    }\n",
       "\n",
       "    .dataframe thead th {\n",
       "        text-align: right;\n",
       "    }\n",
       "</style>\n",
       "<table border=\"1\" class=\"dataframe\">\n",
       "  <thead>\n",
       "    <tr style=\"text-align: right;\">\n",
       "      <th></th>\n",
       "      <th>discounts_perc_mean</th>\n",
       "      <th>unit_price_total_avg</th>\n",
       "      <th>total_paid_sum</th>\n",
       "      <th>price_mean</th>\n",
       "      <th>unit_price_mean</th>\n",
       "      <th>product_quantity_sum</th>\n",
       "      <th>NumUniqidOrder</th>\n",
       "      <th>NumUniqsku</th>\n",
       "    </tr>\n",
       "  </thead>\n",
       "  <tbody>\n",
       "    <tr>\n",
       "      <th>count</th>\n",
       "      <td>1275.0</td>\n",
       "      <td>1275.0</td>\n",
       "      <td>1275.0</td>\n",
       "      <td>1275.0</td>\n",
       "      <td>1275.0</td>\n",
       "      <td>1275.0</td>\n",
       "      <td>1275.0</td>\n",
       "      <td>1275.0</td>\n",
       "    </tr>\n",
       "    <tr>\n",
       "      <th>mean</th>\n",
       "      <td>18.0</td>\n",
       "      <td>194.0</td>\n",
       "      <td>9252.0</td>\n",
       "      <td>222.0</td>\n",
       "      <td>185.0</td>\n",
       "      <td>47.0</td>\n",
       "      <td>40.0</td>\n",
       "      <td>15.0</td>\n",
       "    </tr>\n",
       "    <tr>\n",
       "      <th>std</th>\n",
       "      <td>15.0</td>\n",
       "      <td>243.0</td>\n",
       "      <td>17225.0</td>\n",
       "      <td>283.0</td>\n",
       "      <td>236.0</td>\n",
       "      <td>85.0</td>\n",
       "      <td>69.0</td>\n",
       "      <td>25.0</td>\n",
       "    </tr>\n",
       "    <tr>\n",
       "      <th>min</th>\n",
       "      <td>-30.0</td>\n",
       "      <td>5.0</td>\n",
       "      <td>13.0</td>\n",
       "      <td>6.0</td>\n",
       "      <td>5.0</td>\n",
       "      <td>1.0</td>\n",
       "      <td>1.0</td>\n",
       "      <td>1.0</td>\n",
       "    </tr>\n",
       "    <tr>\n",
       "      <th>25%</th>\n",
       "      <td>8.0</td>\n",
       "      <td>34.0</td>\n",
       "      <td>684.0</td>\n",
       "      <td>43.0</td>\n",
       "      <td>33.0</td>\n",
       "      <td>4.0</td>\n",
       "      <td>4.0</td>\n",
       "      <td>2.0</td>\n",
       "    </tr>\n",
       "    <tr>\n",
       "      <th>50%</th>\n",
       "      <td>17.0</td>\n",
       "      <td>79.0</td>\n",
       "      <td>2703.0</td>\n",
       "      <td>89.0</td>\n",
       "      <td>75.0</td>\n",
       "      <td>15.0</td>\n",
       "      <td>14.0</td>\n",
       "      <td>6.0</td>\n",
       "    </tr>\n",
       "    <tr>\n",
       "      <th>75%</th>\n",
       "      <td>25.0</td>\n",
       "      <td>244.0</td>\n",
       "      <td>9626.0</td>\n",
       "      <td>274.0</td>\n",
       "      <td>226.0</td>\n",
       "      <td>51.0</td>\n",
       "      <td>46.0</td>\n",
       "      <td>17.0</td>\n",
       "    </tr>\n",
       "    <tr>\n",
       "      <th>max</th>\n",
       "      <td>86.0</td>\n",
       "      <td>1364.0</td>\n",
       "      <td>166701.0</td>\n",
       "      <td>1499.0</td>\n",
       "      <td>999.0</td>\n",
       "      <td>726.0</td>\n",
       "      <td>600.0</td>\n",
       "      <td>280.0</td>\n",
       "    </tr>\n",
       "  </tbody>\n",
       "</table>\n",
       "</div>"
      ],
      "text/plain": [
       "       discounts_perc_mean  unit_price_total_avg  total_paid_sum  price_mean  \\\n",
       "count               1275.0                1275.0          1275.0      1275.0   \n",
       "mean                  18.0                 194.0          9252.0       222.0   \n",
       "std                   15.0                 243.0         17225.0       283.0   \n",
       "min                  -30.0                   5.0            13.0         6.0   \n",
       "25%                    8.0                  34.0           684.0        43.0   \n",
       "50%                   17.0                  79.0          2703.0        89.0   \n",
       "75%                   25.0                 244.0          9626.0       274.0   \n",
       "max                   86.0                1364.0        166701.0      1499.0   \n",
       "\n",
       "       unit_price_mean  product_quantity_sum  NumUniqidOrder  NumUniqsku  \n",
       "count           1275.0                1275.0          1275.0      1275.0  \n",
       "mean             185.0                  47.0            40.0        15.0  \n",
       "std              236.0                  85.0            69.0        25.0  \n",
       "min                5.0                   1.0             1.0         1.0  \n",
       "25%               33.0                   4.0             4.0         2.0  \n",
       "50%               75.0                  15.0            14.0         6.0  \n",
       "75%              226.0                  51.0            46.0        17.0  \n",
       "max              999.0                 726.0           600.0       280.0  "
      ]
     },
     "execution_count": 339,
     "metadata": {},
     "output_type": "execute_result"
    }
   ],
   "source": [
    "round(db_types_time.describe())"
   ]
  },
  {
   "cell_type": "code",
   "execution_count": 340,
   "id": "b561a996-dfc7-49ad-9ecc-affc315a7b9d",
   "metadata": {},
   "outputs": [
    {
     "data": {
      "text/plain": [
       "1,44E+11    15\n",
       "5398        15\n",
       "13005399    15\n",
       "1325        15\n",
       "1334        15\n",
       "13555403    15\n",
       "13615399    15\n",
       "54085407    15\n",
       "1364        15\n",
       "13835403    15\n",
       "Name: type, dtype: int64"
      ]
     },
     "execution_count": 340,
     "metadata": {},
     "output_type": "execute_result"
    }
   ],
   "source": [
    "db_types_time['type'].value_counts().head(10)"
   ]
  },
  {
   "cell_type": "code",
   "execution_count": 341,
   "id": "c9d1d8c9-0366-457f-8cb2-e6cbd3c0bf7a",
   "metadata": {},
   "outputs": [
    {
     "data": {
      "text/plain": [
       "created_date  type      discounts_perc_mean  unit_price_total_avg  total_paid_sum  price_mean  unit_price_mean  product_quantity_sum  NumUniqidOrder  NumUniqsku  Name_longest                                             Descr_longest                                         \n",
       "2017-01       11865403  33.0                 28.0                  33441.0         36.0        25.0             463                   383             206         Wowewa Protector Tempered Glass iPhone 6s Plus / 6 Plus  zippered sleeve type card case book for iPhone 6 Plus.    1\n",
       "dtype: int64"
      ]
     },
     "execution_count": 341,
     "metadata": {},
     "output_type": "execute_result"
    }
   ],
   "source": [
    "db_types_time.loc[db_types_time[\"type\"] == \"11865403\"].value_counts().head(1)"
   ]
  },
  {
   "cell_type": "code",
   "execution_count": 346,
   "id": "2e7bbb02-5a42-4e75-a0c6-e38387009524",
   "metadata": {},
   "outputs": [
    {
     "data": {
      "text/html": [
       "<div>\n",
       "<style scoped>\n",
       "    .dataframe tbody tr th:only-of-type {\n",
       "        vertical-align: middle;\n",
       "    }\n",
       "\n",
       "    .dataframe tbody tr th {\n",
       "        vertical-align: top;\n",
       "    }\n",
       "\n",
       "    .dataframe thead th {\n",
       "        text-align: right;\n",
       "    }\n",
       "</style>\n",
       "<table border=\"1\" class=\"dataframe\">\n",
       "  <thead>\n",
       "    <tr style=\"text-align: right;\">\n",
       "      <th></th>\n",
       "      <th>created_date</th>\n",
       "      <th>type</th>\n",
       "      <th>discounts_perc_mean</th>\n",
       "      <th>unit_price_total_avg</th>\n",
       "      <th>total_paid_sum</th>\n",
       "      <th>price_mean</th>\n",
       "      <th>unit_price_mean</th>\n",
       "      <th>product_quantity_sum</th>\n",
       "      <th>NumUniqidOrder</th>\n",
       "      <th>NumUniqsku</th>\n",
       "      <th>Name_longest</th>\n",
       "      <th>Descr_longest</th>\n",
       "    </tr>\n",
       "  </thead>\n",
       "  <tbody>\n",
       "    <tr>\n",
       "      <th>863</th>\n",
       "      <td>2017-11</td>\n",
       "      <td>13955395</td>\n",
       "      <td>86.0</td>\n",
       "      <td>7.0</td>\n",
       "      <td>39.0</td>\n",
       "      <td>35.0</td>\n",
       "      <td>5.0</td>\n",
       "      <td>4</td>\n",
       "      <td>3</td>\n",
       "      <td>1</td>\n",
       "      <td>Like new - Apple iPad Camera Connection Kit</td>\n",
       "      <td>Reconditioned Adapter Compatible digital camer...</td>\n",
       "    </tr>\n",
       "    <tr>\n",
       "      <th>963</th>\n",
       "      <td>2017-12</td>\n",
       "      <td>13955395</td>\n",
       "      <td>86.0</td>\n",
       "      <td>7.0</td>\n",
       "      <td>81.0</td>\n",
       "      <td>35.0</td>\n",
       "      <td>5.0</td>\n",
       "      <td>4</td>\n",
       "      <td>3</td>\n",
       "      <td>1</td>\n",
       "      <td>Like new - Apple iPad Camera Connection Kit</td>\n",
       "      <td>Reconditioned Adapter Compatible digital camer...</td>\n",
       "    </tr>\n",
       "    <tr>\n",
       "      <th>1057</th>\n",
       "      <td>2018-01</td>\n",
       "      <td>13955395</td>\n",
       "      <td>86.0</td>\n",
       "      <td>5.0</td>\n",
       "      <td>78.0</td>\n",
       "      <td>35.0</td>\n",
       "      <td>5.0</td>\n",
       "      <td>4</td>\n",
       "      <td>4</td>\n",
       "      <td>1</td>\n",
       "      <td>Like new - Apple iPad Camera Connection Kit</td>\n",
       "      <td>Reconditioned Adapter Compatible digital camer...</td>\n",
       "    </tr>\n",
       "    <tr>\n",
       "      <th>1159</th>\n",
       "      <td>2018-02</td>\n",
       "      <td>1515</td>\n",
       "      <td>82.0</td>\n",
       "      <td>13.0</td>\n",
       "      <td>3776.0</td>\n",
       "      <td>75.0</td>\n",
       "      <td>12.0</td>\n",
       "      <td>147</td>\n",
       "      <td>118</td>\n",
       "      <td>17</td>\n",
       "      <td>Xtorm XB103 Qi Wireless Power Bank Fast charge</td>\n",
       "      <td>portable charger with 6700mAh capacity and Mic...</td>\n",
       "    </tr>\n",
       "    <tr>\n",
       "      <th>892</th>\n",
       "      <td>2017-11</td>\n",
       "      <td>5,43E+15</td>\n",
       "      <td>81.0</td>\n",
       "      <td>250.0</td>\n",
       "      <td>842.0</td>\n",
       "      <td>1299.0</td>\n",
       "      <td>250.0</td>\n",
       "      <td>3</td>\n",
       "      <td>3</td>\n",
       "      <td>3</td>\n",
       "      <td>Second hand - Apple iMac 20 \"Core 2 Duo 226GHz...</td>\n",
       "      <td>Refurbished iMac 20 inch Core 2 Duo | 2GB RAM ...</td>\n",
       "    </tr>\n",
       "    <tr>\n",
       "      <th>702</th>\n",
       "      <td>2017-09</td>\n",
       "      <td>5,43E+15</td>\n",
       "      <td>78.0</td>\n",
       "      <td>263.0</td>\n",
       "      <td>1073.0</td>\n",
       "      <td>1199.0</td>\n",
       "      <td>263.0</td>\n",
       "      <td>4</td>\n",
       "      <td>4</td>\n",
       "      <td>3</td>\n",
       "      <td>Second hand - Apple iMac 20 \"Core 2 Duo 226GHz...</td>\n",
       "      <td>Refurbished iMac 20 inch Core 2 Duo | 2GB RAM ...</td>\n",
       "    </tr>\n",
       "    <tr>\n",
       "      <th>798</th>\n",
       "      <td>2017-10</td>\n",
       "      <td>51882158</td>\n",
       "      <td>78.0</td>\n",
       "      <td>336.0</td>\n",
       "      <td>364.0</td>\n",
       "      <td>1499.0</td>\n",
       "      <td>336.0</td>\n",
       "      <td>1</td>\n",
       "      <td>1</td>\n",
       "      <td>1</td>\n",
       "      <td>Second hand - Apple iMac 20 \"Core 2 Duo 266GHz...</td>\n",
       "      <td>IMac used 20 inch Core 2 Duo 266GHz | 4GB RAM ...</td>\n",
       "    </tr>\n",
       "    <tr>\n",
       "      <th>440</th>\n",
       "      <td>2017-06</td>\n",
       "      <td>5,43E+15</td>\n",
       "      <td>77.0</td>\n",
       "      <td>349.0</td>\n",
       "      <td>356.0</td>\n",
       "      <td>1499.0</td>\n",
       "      <td>349.0</td>\n",
       "      <td>1</td>\n",
       "      <td>1</td>\n",
       "      <td>1</td>\n",
       "      <td>Second hand - Apple iMac 20 \"Core 2 Duo 24GHz ...</td>\n",
       "      <td>Refurbished iMac 20 inch Core 2 Duo 24GHz | 4G...</td>\n",
       "    </tr>\n",
       "    <tr>\n",
       "      <th>792</th>\n",
       "      <td>2017-10</td>\n",
       "      <td>5,43E+15</td>\n",
       "      <td>77.0</td>\n",
       "      <td>271.0</td>\n",
       "      <td>2210.0</td>\n",
       "      <td>1199.0</td>\n",
       "      <td>271.0</td>\n",
       "      <td>8</td>\n",
       "      <td>8</td>\n",
       "      <td>2</td>\n",
       "      <td>Second hand - Apple iMac 20 \"Core 2 Duo 226GHz...</td>\n",
       "      <td>Refurbished iMac 20 inch Core 2 Duo | 2GB RAM ...</td>\n",
       "    </tr>\n",
       "    <tr>\n",
       "      <th>744</th>\n",
       "      <td>2017-10</td>\n",
       "      <td>12575403</td>\n",
       "      <td>73.0</td>\n",
       "      <td>24.0</td>\n",
       "      <td>7510.0</td>\n",
       "      <td>82.0</td>\n",
       "      <td>23.0</td>\n",
       "      <td>152</td>\n",
       "      <td>137</td>\n",
       "      <td>5</td>\n",
       "      <td>Zagg iPad Messenger Universal Keyboard Pro 129...</td>\n",
       "      <td>Spanish Bluetooth keyboard for iPad Pro resist...</td>\n",
       "    </tr>\n",
       "    <tr>\n",
       "      <th>146</th>\n",
       "      <td>2017-02</td>\n",
       "      <td>5,43E+15</td>\n",
       "      <td>72.0</td>\n",
       "      <td>330.0</td>\n",
       "      <td>330.0</td>\n",
       "      <td>1199.0</td>\n",
       "      <td>330.0</td>\n",
       "      <td>1</td>\n",
       "      <td>1</td>\n",
       "      <td>1</td>\n",
       "      <td>Second hand - Apple iMac 20 \"Core 2 Duo 24GHz ...</td>\n",
       "      <td>IMac used 20 inch Core 2 Duo 24GHz | 2GB RAM |...</td>\n",
       "    </tr>\n",
       "    <tr>\n",
       "      <th>364</th>\n",
       "      <td>2017-05</td>\n",
       "      <td>51882158</td>\n",
       "      <td>72.0</td>\n",
       "      <td>364.0</td>\n",
       "      <td>1456.0</td>\n",
       "      <td>1349.0</td>\n",
       "      <td>364.0</td>\n",
       "      <td>2</td>\n",
       "      <td>1</td>\n",
       "      <td>2</td>\n",
       "      <td>Second hand - Apple iMac 20 \"Core 2 Duo 266GHz...</td>\n",
       "      <td>Refurbished iMac 20 inch Core 2 Duo 266GHz | 4...</td>\n",
       "    </tr>\n",
       "    <tr>\n",
       "      <th>445</th>\n",
       "      <td>2017-06</td>\n",
       "      <td>51882158</td>\n",
       "      <td>72.0</td>\n",
       "      <td>476.0</td>\n",
       "      <td>1924.0</td>\n",
       "      <td>1349.0</td>\n",
       "      <td>372.0</td>\n",
       "      <td>5</td>\n",
       "      <td>4</td>\n",
       "      <td>3</td>\n",
       "      <td>Second hand - Apple iMac 20 \"Core 2 Duo 266GHz...</td>\n",
       "      <td>Refurbished iMac 20 inch Core 2 Duo 266GHz | 4...</td>\n",
       "    </tr>\n",
       "    <tr>\n",
       "      <th>999</th>\n",
       "      <td>2017-12</td>\n",
       "      <td>54025401</td>\n",
       "      <td>72.0</td>\n",
       "      <td>26.0</td>\n",
       "      <td>31.0</td>\n",
       "      <td>90.0</td>\n",
       "      <td>26.0</td>\n",
       "      <td>1</td>\n",
       "      <td>1</td>\n",
       "      <td>1</td>\n",
       "      <td>Open - Zagg iPad Keyboard Pro Messenger 129 \"B...</td>\n",
       "      <td>Cover with ultra resistant reconditioned and b...</td>\n",
       "    </tr>\n",
       "    <tr>\n",
       "      <th>532</th>\n",
       "      <td>2017-07</td>\n",
       "      <td>5,43E+15</td>\n",
       "      <td>70.0</td>\n",
       "      <td>355.0</td>\n",
       "      <td>1073.0</td>\n",
       "      <td>1199.0</td>\n",
       "      <td>355.0</td>\n",
       "      <td>3</td>\n",
       "      <td>3</td>\n",
       "      <td>3</td>\n",
       "      <td>Second hand - Apple iMac 20 \"Core 2 Duo 266GHz...</td>\n",
       "      <td>Refurbished iMac 20 inch Core 2 Duo 266GHz | 4...</td>\n",
       "    </tr>\n",
       "  </tbody>\n",
       "</table>\n",
       "</div>"
      ],
      "text/plain": [
       "     created_date      type  discounts_perc_mean  unit_price_total_avg  \\\n",
       "863       2017-11  13955395                 86.0                   7.0   \n",
       "963       2017-12  13955395                 86.0                   7.0   \n",
       "1057      2018-01  13955395                 86.0                   5.0   \n",
       "1159      2018-02      1515                 82.0                  13.0   \n",
       "892       2017-11  5,43E+15                 81.0                 250.0   \n",
       "702       2017-09  5,43E+15                 78.0                 263.0   \n",
       "798       2017-10  51882158                 78.0                 336.0   \n",
       "440       2017-06  5,43E+15                 77.0                 349.0   \n",
       "792       2017-10  5,43E+15                 77.0                 271.0   \n",
       "744       2017-10  12575403                 73.0                  24.0   \n",
       "146       2017-02  5,43E+15                 72.0                 330.0   \n",
       "364       2017-05  51882158                 72.0                 364.0   \n",
       "445       2017-06  51882158                 72.0                 476.0   \n",
       "999       2017-12  54025401                 72.0                  26.0   \n",
       "532       2017-07  5,43E+15                 70.0                 355.0   \n",
       "\n",
       "      total_paid_sum  price_mean  unit_price_mean  product_quantity_sum  \\\n",
       "863             39.0        35.0              5.0                     4   \n",
       "963             81.0        35.0              5.0                     4   \n",
       "1057            78.0        35.0              5.0                     4   \n",
       "1159          3776.0        75.0             12.0                   147   \n",
       "892            842.0      1299.0            250.0                     3   \n",
       "702           1073.0      1199.0            263.0                     4   \n",
       "798            364.0      1499.0            336.0                     1   \n",
       "440            356.0      1499.0            349.0                     1   \n",
       "792           2210.0      1199.0            271.0                     8   \n",
       "744           7510.0        82.0             23.0                   152   \n",
       "146            330.0      1199.0            330.0                     1   \n",
       "364           1456.0      1349.0            364.0                     2   \n",
       "445           1924.0      1349.0            372.0                     5   \n",
       "999             31.0        90.0             26.0                     1   \n",
       "532           1073.0      1199.0            355.0                     3   \n",
       "\n",
       "      NumUniqidOrder  NumUniqsku  \\\n",
       "863                3           1   \n",
       "963                3           1   \n",
       "1057               4           1   \n",
       "1159             118          17   \n",
       "892                3           3   \n",
       "702                4           3   \n",
       "798                1           1   \n",
       "440                1           1   \n",
       "792                8           2   \n",
       "744              137           5   \n",
       "146                1           1   \n",
       "364                1           2   \n",
       "445                4           3   \n",
       "999                1           1   \n",
       "532                3           3   \n",
       "\n",
       "                                           Name_longest  \\\n",
       "863         Like new - Apple iPad Camera Connection Kit   \n",
       "963         Like new - Apple iPad Camera Connection Kit   \n",
       "1057        Like new - Apple iPad Camera Connection Kit   \n",
       "1159     Xtorm XB103 Qi Wireless Power Bank Fast charge   \n",
       "892   Second hand - Apple iMac 20 \"Core 2 Duo 226GHz...   \n",
       "702   Second hand - Apple iMac 20 \"Core 2 Duo 226GHz...   \n",
       "798   Second hand - Apple iMac 20 \"Core 2 Duo 266GHz...   \n",
       "440   Second hand - Apple iMac 20 \"Core 2 Duo 24GHz ...   \n",
       "792   Second hand - Apple iMac 20 \"Core 2 Duo 226GHz...   \n",
       "744   Zagg iPad Messenger Universal Keyboard Pro 129...   \n",
       "146   Second hand - Apple iMac 20 \"Core 2 Duo 24GHz ...   \n",
       "364   Second hand - Apple iMac 20 \"Core 2 Duo 266GHz...   \n",
       "445   Second hand - Apple iMac 20 \"Core 2 Duo 266GHz...   \n",
       "999   Open - Zagg iPad Keyboard Pro Messenger 129 \"B...   \n",
       "532   Second hand - Apple iMac 20 \"Core 2 Duo 266GHz...   \n",
       "\n",
       "                                          Descr_longest  \n",
       "863   Reconditioned Adapter Compatible digital camer...  \n",
       "963   Reconditioned Adapter Compatible digital camer...  \n",
       "1057  Reconditioned Adapter Compatible digital camer...  \n",
       "1159  portable charger with 6700mAh capacity and Mic...  \n",
       "892   Refurbished iMac 20 inch Core 2 Duo | 2GB RAM ...  \n",
       "702   Refurbished iMac 20 inch Core 2 Duo | 2GB RAM ...  \n",
       "798   IMac used 20 inch Core 2 Duo 266GHz | 4GB RAM ...  \n",
       "440   Refurbished iMac 20 inch Core 2 Duo 24GHz | 4G...  \n",
       "792   Refurbished iMac 20 inch Core 2 Duo | 2GB RAM ...  \n",
       "744   Spanish Bluetooth keyboard for iPad Pro resist...  \n",
       "146   IMac used 20 inch Core 2 Duo 24GHz | 2GB RAM |...  \n",
       "364   Refurbished iMac 20 inch Core 2 Duo 266GHz | 4...  \n",
       "445   Refurbished iMac 20 inch Core 2 Duo 266GHz | 4...  \n",
       "999   Cover with ultra resistant reconditioned and b...  \n",
       "532   Refurbished iMac 20 inch Core 2 Duo 266GHz | 4...  "
      ]
     },
     "execution_count": 346,
     "metadata": {},
     "output_type": "execute_result"
    }
   ],
   "source": [
    "db_types_time.nlargest(15, \"discounts_perc_mean\")"
   ]
  },
  {
   "cell_type": "code",
   "execution_count": 280,
   "id": "09ac7728-d290-4bda-9e91-91becb4c7482",
   "metadata": {},
   "outputs": [
    {
     "data": {
      "text/html": [
       "<div>\n",
       "<style scoped>\n",
       "    .dataframe tbody tr th:only-of-type {\n",
       "        vertical-align: middle;\n",
       "    }\n",
       "\n",
       "    .dataframe tbody tr th {\n",
       "        vertical-align: top;\n",
       "    }\n",
       "\n",
       "    .dataframe thead th {\n",
       "        text-align: right;\n",
       "    }\n",
       "</style>\n",
       "<table border=\"1\" class=\"dataframe\">\n",
       "  <thead>\n",
       "    <tr style=\"text-align: right;\">\n",
       "      <th></th>\n",
       "      <th>type</th>\n",
       "      <th>discounts_perc_mean</th>\n",
       "      <th>unit_price_total_avg</th>\n",
       "      <th>total_paid_sum</th>\n",
       "      <th>price_mean</th>\n",
       "      <th>unit_price_mean</th>\n",
       "      <th>product_quantity_sum</th>\n",
       "      <th>NumUniqidOrder</th>\n",
       "      <th>NumUniqsku</th>\n",
       "      <th>Name_longest</th>\n",
       "      <th>Descr_longest</th>\n",
       "    </tr>\n",
       "  </thead>\n",
       "  <tbody>\n",
       "    <tr>\n",
       "      <th>0</th>\n",
       "      <td>1,44E+11</td>\n",
       "      <td>-11.0</td>\n",
       "      <td>81.0</td>\n",
       "      <td>10485.0</td>\n",
       "      <td>73.0</td>\n",
       "      <td>81.0</td>\n",
       "      <td>101</td>\n",
       "      <td>93</td>\n",
       "      <td>21</td>\n",
       "      <td>iPhone 5s battery repair</td>\n",
       "      <td>Repair service including parts and labor for i...</td>\n",
       "    </tr>\n",
       "  </tbody>\n",
       "</table>\n",
       "</div>"
      ],
      "text/plain": [
       "       type  discounts_perc_mean  unit_price_total_avg  total_paid_sum  \\\n",
       "0  1,44E+11                -11.0                  81.0         10485.0   \n",
       "\n",
       "   price_mean  unit_price_mean  product_quantity_sum  NumUniqidOrder  \\\n",
       "0        73.0             81.0                   101              93   \n",
       "\n",
       "   NumUniqsku              Name_longest  \\\n",
       "0          21  iPhone 5s battery repair   \n",
       "\n",
       "                                       Descr_longest  \n",
       "0  Repair service including parts and labor for i...  "
      ]
     },
     "execution_count": 280,
     "metadata": {},
     "output_type": "execute_result"
    }
   ],
   "source": [
    "db_types_my.head(1)"
   ]
  },
  {
   "cell_type": "code",
   "execution_count": 430,
   "id": "f64e170d-5cea-44e9-ae4e-dd13eb5543e4",
   "metadata": {},
   "outputs": [
    {
     "data": {
      "text/plain": [
       "array(['5,43E+15', '51882158', '13955395', '12575403', '54025401', '1515',\n",
       "       '5,45E+15', '1230', '5,72E+15', '21571716', '2425', '12051714',\n",
       "       '1392', '9094', '1298', '14035403', '21622158', '24215399',\n",
       "       '11865403', '5,49E+11', '79201715', '12755395', '13835403', '2434',\n",
       "       '42945397', '5384', '5403', '2,16E+11', '5405', '5720'],\n",
       "      dtype=object)"
      ]
     },
     "execution_count": 430,
     "metadata": {},
     "output_type": "execute_result"
    }
   ],
   "source": [
    "db_types_my.nlargest(30, \"discounts_perc_mean\").type.unique()"
   ]
  },
  {
   "cell_type": "code",
   "execution_count": 348,
   "id": "99c85936-42bf-40ae-8b35-c8703c921633",
   "metadata": {},
   "outputs": [
    {
     "data": {
      "text/plain": [
       "<AxesSubplot:xlabel='discounts_perc_mean', ylabel='type'>"
      ]
     },
     "execution_count": 348,
     "metadata": {},
     "output_type": "execute_result"
    },
    {
     "data": {
      "image/png": "[encoded data removed]",
      "text/plain": [
       "<Figure size 432x288 with 1 Axes>"
      ]
     },
     "metadata": {
      "needs_background": "light"
     },
     "output_type": "display_data"
    }
   ],
   "source": [
    "sns.barplot(data=db_types_my.nlargest(10, 'discounts_perc_mean'), #catplot\n",
    "            y='type',\n",
    "            x='discounts_perc_mean')\n",
    "# they all reproduce second hand iPhones, Macs, Apple products\n",
    "#db_types_my.nlargest(10, \"discounts_perc_mean\")"
   ]
  },
  {
   "cell_type": "code",
   "execution_count": 495,
   "id": "ef056847-3a55-4598-861c-1b81266ffffe",
   "metadata": {},
   "outputs": [
    {
     "data": {
      "text/html": [
       "<div>\n",
       "<style scoped>\n",
       "    .dataframe tbody tr th:only-of-type {\n",
       "        vertical-align: middle;\n",
       "    }\n",
       "\n",
       "    .dataframe tbody tr th {\n",
       "        vertical-align: top;\n",
       "    }\n",
       "\n",
       "    .dataframe thead th {\n",
       "        text-align: right;\n",
       "    }\n",
       "</style>\n",
       "<table border=\"1\" class=\"dataframe\">\n",
       "  <thead>\n",
       "    <tr style=\"text-align: right;\">\n",
       "      <th></th>\n",
       "      <th>created_date</th>\n",
       "      <th>type</th>\n",
       "      <th>discounts_perc_mean</th>\n",
       "      <th>unit_price_total_avg</th>\n",
       "      <th>total_paid_sum</th>\n",
       "      <th>price_mean</th>\n",
       "      <th>unit_price_mean</th>\n",
       "      <th>product_quantity_sum</th>\n",
       "      <th>NumUniqidOrder</th>\n",
       "      <th>NumUniqsku</th>\n",
       "      <th>Name_longest</th>\n",
       "      <th>Descr_longest</th>\n",
       "    </tr>\n",
       "  </thead>\n",
       "  <tbody>\n",
       "    <tr>\n",
       "      <th>518</th>\n",
       "      <td>2017-07</td>\n",
       "      <td>21571716</td>\n",
       "      <td>37.0</td>\n",
       "      <td>469.0</td>\n",
       "      <td>938.0</td>\n",
       "      <td>749.0</td>\n",
       "      <td>469.0</td>\n",
       "      <td>2</td>\n",
       "      <td>2</td>\n",
       "      <td>1</td>\n",
       "      <td>Like new - Apple iPhone 6 Plus 16GB Space Gray</td>\n",
       "      <td>Apple iPhone 6 Plus Free Refurbished 16GB Spac...</td>\n",
       "    </tr>\n",
       "    <tr>\n",
       "      <th>691</th>\n",
       "      <td>2017-09</td>\n",
       "      <td>21571716</td>\n",
       "      <td>44.0</td>\n",
       "      <td>525.0</td>\n",
       "      <td>1051.0</td>\n",
       "      <td>929.0</td>\n",
       "      <td>525.0</td>\n",
       "      <td>2</td>\n",
       "      <td>2</td>\n",
       "      <td>2</td>\n",
       "      <td>Like new - Apple iPhone 6 Plus 64GB Silver</td>\n",
       "      <td>Apple iPhone 6 Plus Free Refurbished 64GB Colo...</td>\n",
       "    </tr>\n",
       "  </tbody>\n",
       "</table>\n",
       "</div>"
      ],
      "text/plain": [
       "    created_date      type  discounts_perc_mean  unit_price_total_avg  \\\n",
       "518      2017-07  21571716                 37.0                 469.0   \n",
       "691      2017-09  21571716                 44.0                 525.0   \n",
       "\n",
       "     total_paid_sum  price_mean  unit_price_mean  product_quantity_sum  \\\n",
       "518           938.0       749.0            469.0                     2   \n",
       "691          1051.0       929.0            525.0                     2   \n",
       "\n",
       "     NumUniqidOrder  NumUniqsku  \\\n",
       "518               2           1   \n",
       "691               2           2   \n",
       "\n",
       "                                       Name_longest  \\\n",
       "518  Like new - Apple iPhone 6 Plus 16GB Space Gray   \n",
       "691      Like new - Apple iPhone 6 Plus 64GB Silver   \n",
       "\n",
       "                                         Descr_longest  \n",
       "518  Apple iPhone 6 Plus Free Refurbished 16GB Spac...  \n",
       "691  Apple iPhone 6 Plus Free Refurbished 64GB Colo...  "
      ]
     },
     "execution_count": 495,
     "metadata": {},
     "output_type": "execute_result"
    }
   ],
   "source": [
    "db_types_time.loc[db_types_time[\"type\"] == \"21571716\", :].sample(2)#value_counts().head(1)"
   ]
  },
  {
   "cell_type": "code",
   "execution_count": 378,
   "id": "eea2b4e7-9049-415d-a04b-bfe570278090",
   "metadata": {},
   "outputs": [
    {
     "data": {
      "text/plain": [
       "114"
      ]
     },
     "execution_count": 378,
     "metadata": {},
     "output_type": "execute_result"
    }
   ],
   "source": [
    "db_types_my['Name_longest'].str.contains('Second hand', 'Like new').count()"
   ]
  },
  {
   "cell_type": "code",
   "execution_count": 439,
   "id": "0867a058-e0b7-418d-9af7-c222f6d40f90",
   "metadata": {},
   "outputs": [
    {
     "data": {
      "text/plain": [
       "array(['113271716', '113851714', '11821715', '12031714', '12051714',\n",
       "       '12141714', '1282', '13621714', '13955395', '2,17E+11', '21561716',\n",
       "       '21571716', '21622158', '24821716', '4259', '42931714', '5,43E+15',\n",
       "       '5,44E+11', '5,45E+15', '5,72E+15', '51861714', '51882158',\n",
       "       '79201715', '85641716'], dtype=object)"
      ]
     },
     "execution_count": 439,
     "metadata": {},
     "output_type": "execute_result"
    }
   ],
   "source": [
    "db_types_my.loc[db_types_my[\"Name_longest\"].str.contains(\"Second hand|Like new\"), :].type.unique()\n",
    "#there is 24 types"
   ]
  },
  {
   "cell_type": "code",
   "execution_count": 468,
   "id": "63843153-3936-4ade-badf-a4251406198f",
   "metadata": {},
   "outputs": [
    {
     "data": {
      "text/plain": [
       "array(['10142', '106431714', '113281716', '113291716', '113464259',\n",
       "       '1364', '1714', '1716', '24811716', '24885185', '51871714', '5401',\n",
       "       '54025401', '85651716'], dtype=object)"
      ]
     },
     "execution_count": 468,
     "metadata": {},
     "output_type": "execute_result"
    }
   ],
   "source": [
    "#db_types_my.loc[db_types_my[\"Name_longest\"].str.contains(\"Open\"), :].type.unique()\n",
    "#15 types"
   ]
  },
  {
   "cell_type": "code",
   "execution_count": 423,
   "id": "639c481f-f858-4211-bd19-4c49bd9bfc6e",
   "metadata": {},
   "outputs": [
    {
     "data": {
      "text/plain": [
       "array(['12645406'], dtype=object)"
      ]
     },
     "execution_count": 423,
     "metadata": {},
     "output_type": "execute_result"
    }
   ],
   "source": [
    "db_types_my.loc[db_types_my[\"Name_longest\"].str.contains(\"Repair\"), :].type.unique()\n",
    "#15 types"
   ]
  },
  {
   "cell_type": "code",
   "execution_count": 473,
   "id": "b2e3454c-45ce-4fd4-8202-06ab97e8d8b1",
   "metadata": {},
   "outputs": [],
   "source": [
    "db_types_my['category'] = \"\""
   ]
  },
  {
   "cell_type": "code",
   "execution_count": 474,
   "id": "e086da5c-e717-4155-a2b1-ed3f88c590c6",
   "metadata": {},
   "outputs": [],
   "source": [
    "db_types_my.loc[db_types_my[\"Name_longest\"].str.contains(\"Second hand|Like new\"), \"category\"] = \"Second hand\""
   ]
  },
  {
   "cell_type": "code",
   "execution_count": 415,
   "id": "157564d7-02af-4748-b978-121f8001dc24",
   "metadata": {},
   "outputs": [],
   "source": [
    "#db_types_my.loc[db_types_my[\"Name_longest\"].str.contains(\"Open\"), \"category\"] = \"Open\""
   ]
  },
  {
   "cell_type": "code",
   "execution_count": 475,
   "id": "37ec9f26-a325-4f16-9f8d-dc09caad01ee",
   "metadata": {},
   "outputs": [],
   "source": [
    "db_types_my.loc[db_types_my[\"Name_longest\"].str.contains(\"Repair\"), \"category\"] = \"Repair\""
   ]
  },
  {
   "cell_type": "code",
   "execution_count": 476,
   "id": "114e5c73-ebbf-4a13-bf02-55cd00b20cdb",
   "metadata": {},
   "outputs": [],
   "source": [
    "db_types_my.loc[db_types_my[\"Name_longest\"].str.contains(\"Keyboard|keyboard\"), \"category\"] = \"Keyboard\""
   ]
  },
  {
   "cell_type": "code",
   "execution_count": 480,
   "id": "60600964-2f53-4e8d-b170-8e3a1c704849",
   "metadata": {},
   "outputs": [],
   "source": [
    "db_types_my.loc[db_types_my[\"Name_longest\"].str.contains(\"Power Bank|External Battery|Power battery|Batterry|battery\"), \"category\"] = \"Battery, Power Bank\""
   ]
  },
  {
   "cell_type": "code",
   "execution_count": 512,
   "id": "cef0f53b-0db7-4579-a2fe-7881716456cf",
   "metadata": {},
   "outputs": [],
   "source": [
    "db_types_my.loc[db_types_my[\"Name_longest\"].str.contains(\"cable|connector|lightning to usb|wall socket|power strip\"), \"category\"] = \"Cable\""
   ]
  },
  {
   "cell_type": "code",
   "execution_count": 479,
   "id": "d63aaa98-5fbc-43b9-87cb-6381cf207ae2",
   "metadata": {},
   "outputs": [],
   "source": [
    "db_types_my.loc[db_types_my[\"Name_longest\"].str.contains(\"Camera|camera\"), \"category\"] = \"Camera\""
   ]
  },
  {
   "cell_type": "code",
   "execution_count": null,
   "id": "6d11a59b-9a8b-405f-8670-c576199fd67e",
   "metadata": {},
   "outputs": [],
   "source": [
    "db_types_my.loc[db_types_my[\"Name_longest\"].str.contains(\"Camera|camera\"), \"category\"] = \"Camera\""
   ]
  },
  {
   "cell_type": "code",
   "execution_count": null,
   "id": "2cd7fec7-5262-4d9c-befe-baac899903a3",
   "metadata": {},
   "outputs": [],
   "source": [
    "db_types_my.loc[db_types_my[\"Name_longest\"].str.contains(\"^.{0,7}apple iphone\"), \"category\"] = \"iphone\""
   ]
  },
  {
   "cell_type": "code",
   "execution_count": null,
   "id": "d5571f80-3cff-4c3a-a192-106e86356989",
   "metadata": {},
   "outputs": [],
   "source": [
    "db_types_my.loc[db_types_my[\"Name_longest\"].str.contains(\"^.{0,7}apple ipod\"), \"category\"] = \"ipod\""
   ]
  },
  {
   "cell_type": "code",
   "execution_count": null,
   "id": "b1f7509d-4cb8-42f7-9cf6-87f485d148f3",
   "metadata": {},
   "outputs": [],
   "source": [
    "db_types_my.loc[db_types_my[\"Name_longest\"].str.contains(\"^.{0,7}apple ipad|tablet\"), \"category\"] = \"tablet\""
   ]
  },
  {
   "cell_type": "code",
   "execution_count": 513,
   "id": "8bfac993-44ef-491d-9ea9-b08f38c7f2c7",
   "metadata": {},
   "outputs": [],
   "source": [
    "db_types_my.loc[db_types_my[\"Name_longest\"].str.contains(\"protect|cover|sleeve|screensaver|shell\"), \"category\"] = \"protection\""
   ]
  },
  {
   "cell_type": "code",
   "execution_count": 514,
   "id": "f6dac02f-45ab-43e3-89df-74ba04f4351f",
   "metadata": {},
   "outputs": [],
   "source": [
    "db_types_my.loc[db_types_my[\"Name_longest\"].str.contains(\"nas|server|raid|synology\"), \"category\"] = \"server\""
   ]
  },
  {
   "cell_type": "code",
   "execution_count": 481,
   "id": "ca06d4fb-846f-4730-9dd6-37ae8b24ae54",
   "metadata": {},
   "outputs": [],
   "source": [
    "db_types_my.loc[db_types_my[\"type\"]==\"11865403\", \"category\"] = \"iPhone_accessories\""
   ]
  },
  {
   "cell_type": "code",
   "execution_count": 482,
   "id": "04293845-4bb7-4425-ba8d-02c1f9d0c93f",
   "metadata": {},
   "outputs": [],
   "source": [
    "db_types_my.loc[db_types_my[\"type\"]==\"1217539\", \"category\"] = \"Servers\""
   ]
  },
  {
   "cell_type": "code",
   "execution_count": 484,
   "id": "99ee61d8-4cf8-4ceb-9bcb-c0fb7f76d6c3",
   "metadata": {},
   "outputs": [],
   "source": [
    "db_types_my.loc[db_types_my[\"type\"]==\"1298\", \"category\"] = \"Open items\""
   ]
  },
  {
   "cell_type": "code",
   "execution_count": 485,
   "id": "0e544aeb-a091-438e-b304-4fccaaa750cb",
   "metadata": {},
   "outputs": [],
   "source": [
    "db_types_my.loc[db_types_my[\"type\"]==\"11935397\", \"category\"] = \"Hard drive, USB\""
   ]
  },
  {
   "cell_type": "code",
   "execution_count": 497,
   "id": "33bd10b8-9d2d-48a6-95ea-db1232a270c0",
   "metadata": {},
   "outputs": [
    {
     "data": {
      "text/html": [
       "<div>\n",
       "<style scoped>\n",
       "    .dataframe tbody tr th:only-of-type {\n",
       "        vertical-align: middle;\n",
       "    }\n",
       "\n",
       "    .dataframe tbody tr th {\n",
       "        vertical-align: top;\n",
       "    }\n",
       "\n",
       "    .dataframe thead th {\n",
       "        text-align: right;\n",
       "    }\n",
       "</style>\n",
       "<table border=\"1\" class=\"dataframe\">\n",
       "  <thead>\n",
       "    <tr style=\"text-align: right;\">\n",
       "      <th></th>\n",
       "      <th>type</th>\n",
       "      <th>discounts_perc_mean</th>\n",
       "      <th>unit_price_total_avg</th>\n",
       "      <th>total_paid_sum</th>\n",
       "      <th>price_mean</th>\n",
       "      <th>unit_price_mean</th>\n",
       "      <th>product_quantity_sum</th>\n",
       "      <th>NumUniqidOrder</th>\n",
       "      <th>NumUniqsku</th>\n",
       "      <th>Name_longest</th>\n",
       "      <th>Descr_longest</th>\n",
       "      <th>category</th>\n",
       "    </tr>\n",
       "  </thead>\n",
       "  <tbody>\n",
       "    <tr>\n",
       "      <th>93</th>\n",
       "      <td>51882158</td>\n",
       "      <td>72.0</td>\n",
       "      <td>423.0</td>\n",
       "      <td>4163.0</td>\n",
       "      <td>1349.0</td>\n",
       "      <td>371.0</td>\n",
       "      <td>9</td>\n",
       "      <td>7</td>\n",
       "      <td>4</td>\n",
       "      <td>Second hand - Apple iMac 20 \"Core 2 Duo 266GHz...</td>\n",
       "      <td>Refurbished iMac 20 inch Core 2 Duo 266GHz | 4...</td>\n",
       "      <td>Second hand</td>\n",
       "    </tr>\n",
       "    <tr>\n",
       "      <th>59</th>\n",
       "      <td>1433</td>\n",
       "      <td>21.0</td>\n",
       "      <td>227.0</td>\n",
       "      <td>194704.0</td>\n",
       "      <td>283.0</td>\n",
       "      <td>222.0</td>\n",
       "      <td>729</td>\n",
       "      <td>699</td>\n",
       "      <td>99</td>\n",
       "      <td>Samsung SSD 850 expansion kit PRO 256GB + Dat...</td>\n",
       "      <td>expansion SSD 512GB + 16GB 1333MHZ RAM + Datad...</td>\n",
       "      <td></td>\n",
       "    </tr>\n",
       "    <tr>\n",
       "      <th>45</th>\n",
       "      <td>13621714</td>\n",
       "      <td>3.0</td>\n",
       "      <td>495.0</td>\n",
       "      <td>20045.0</td>\n",
       "      <td>510.0</td>\n",
       "      <td>495.0</td>\n",
       "      <td>35</td>\n",
       "      <td>35</td>\n",
       "      <td>6</td>\n",
       "      <td>Like new - Apple iPad Mini 4 Wi-Fi + Cellular ...</td>\n",
       "      <td>Refurbished Apple iPad mini Wi-Fi + 4 Cellular...</td>\n",
       "      <td>Second hand</td>\n",
       "    </tr>\n",
       "  </tbody>\n",
       "</table>\n",
       "</div>"
      ],
      "text/plain": [
       "        type  discounts_perc_mean  unit_price_total_avg  total_paid_sum  \\\n",
       "93  51882158                 72.0                 423.0          4163.0   \n",
       "59      1433                 21.0                 227.0        194704.0   \n",
       "45  13621714                  3.0                 495.0         20045.0   \n",
       "\n",
       "    price_mean  unit_price_mean  product_quantity_sum  NumUniqidOrder  \\\n",
       "93      1349.0            371.0                     9               7   \n",
       "59       283.0            222.0                   729             699   \n",
       "45       510.0            495.0                    35              35   \n",
       "\n",
       "    NumUniqsku                                       Name_longest  \\\n",
       "93           4  Second hand - Apple iMac 20 \"Core 2 Duo 266GHz...   \n",
       "59          99   Samsung SSD 850 expansion kit PRO 256GB + Dat...   \n",
       "45           6  Like new - Apple iPad Mini 4 Wi-Fi + Cellular ...   \n",
       "\n",
       "                                        Descr_longest     category  \n",
       "93  Refurbished iMac 20 inch Core 2 Duo 266GHz | 4...  Second hand  \n",
       "59  expansion SSD 512GB + 16GB 1333MHZ RAM + Datad...               \n",
       "45  Refurbished Apple iPad mini Wi-Fi + 4 Cellular...  Second hand  "
      ]
     },
     "execution_count": 497,
     "metadata": {},
     "output_type": "execute_result"
    }
   ],
   "source": [
    "db_types_my.sample(3)"
   ]
  },
  {
   "cell_type": "code",
   "execution_count": null,
   "id": "6782e854-2aa9-4a73-87a2-7a1852584619",
   "metadata": {},
   "outputs": [],
   "source": []
  },
  {
   "cell_type": "code",
   "execution_count": 489,
   "id": "e99a154e-9e1f-4c7b-9c0a-45faf4bd3f17",
   "metadata": {},
   "outputs": [
    {
     "data": {
      "text/plain": [
       "array(['Battery, Power Bank', '', 'Second hand', 'iPhone_accessories',\n",
       "       'Hard drive, USB', 'Cable', 'Keyboard', 'Repair', 'Open items',\n",
       "       'Camera'], dtype=object)"
      ]
     },
     "execution_count": 489,
     "metadata": {},
     "output_type": "execute_result"
    }
   ],
   "source": [
    "db_types_my.category.unique()"
   ]
  },
  {
   "cell_type": "code",
   "execution_count": 621,
   "id": "b7e0db8f-e7cf-4fd1-ba2d-656316b2f119",
   "metadata": {},
   "outputs": [],
   "source": [
    "import matplotlib.pyplot as plt"
   ]
  },
  {
   "cell_type": "code",
   "execution_count": 622,
   "id": "0741a3d3-8b81-4ee4-8fa3-f301ebbf0c9d",
   "metadata": {},
   "outputs": [
    {
     "data": {
      "image/png": "[encoded data removed]",
      "text/plain": [
       "<Figure size 432x288 with 1 Axes>"
      ]
     },
     "metadata": {
      "needs_background": "light"
     },
     "output_type": "display_data"
    }
   ],
   "source": [
    "aa = sns.barplot(data=db_types_my.nlargest(25, 'discounts_perc_mean'), #catplot\n",
    "#sns.color_palette(\"ch:s=.25,rot=-.25\", as_cmap=True)  \n",
    "            y='category',\n",
    "            x='discounts_perc_mean',\n",
    "            color = 'royalblue')#'cornflowerblue'\n",
    "aa.set(xlabel='Mean discount, %', ylabel='category')\n",
    "plt.savefig(\"cat_disc.png\");          "
   ]
  },
  {
   "cell_type": "code",
   "execution_count": 623,
   "id": "3017941c-de7e-4cab-bad8-557821ab3d45",
   "metadata": {},
   "outputs": [
    {
     "data": {
      "image/png": "[encoded data removed]",
      "text/plain": [
       "<Figure size 432x288 with 1 Axes>"
      ]
     },
     "metadata": {
      "needs_background": "light"
     },
     "output_type": "display_data"
    }
   ],
   "source": [
    "sns.barplot(data=db_types_my.nlargest(25, 'discounts_perc_mean'), #catplot\n",
    "            y='category',\n",
    "            x='NumUniqidOrder',\n",
    "            color = 'royalblue')\n",
    "aa.set(xlabel='Number of unique orders', ylabel='category')\n",
    "plt.savefig(\"cat_NumUniqueOrder.png\");"
   ]
  },
  {
   "cell_type": "code",
   "execution_count": 624,
   "id": "5941c1a5-7b8a-4df1-a57d-26ff6f0dc600",
   "metadata": {},
   "outputs": [
    {
     "data": {
      "image/png": "[encoded data removed]",
      "text/plain": [
       "<Figure size 432x288 with 1 Axes>"
      ]
     },
     "metadata": {
      "needs_background": "light"
     },
     "output_type": "display_data"
    }
   ],
   "source": [
    "sns.barplot(data=db_types_my.nlargest(25, 'discounts_perc_mean'), #catplot\n",
    "            y='category',\n",
    "            x='price_mean',\n",
    "            color = 'royalblue')\n",
    "aa.set(xlabel='Mean price', ylabel='category')\n",
    "plt.savefig(\"cat_price_mean.png\");"
   ]
  },
  {
   "cell_type": "code",
   "execution_count": 626,
   "id": "5b9a75b7-20a8-4852-b501-34466e87d11c",
   "metadata": {},
   "outputs": [
    {
     "data": {
      "image/png": "[encoded data removed]",
      "text/plain": [
       "<Figure size 432x288 with 1 Axes>"
      ]
     },
     "metadata": {
      "needs_background": "light"
     },
     "output_type": "display_data"
    }
   ],
   "source": [
    "sns.barplot(data=db_types_my.nlargest(25, 'discounts_perc_mean'), #catplot\n",
    "            y='category',\n",
    "            x='total_paid_sum',\n",
    "            color = 'royalblue')\n",
    "aa.set(xlabel='Total paid, sum', ylabel='category')\n",
    "plt.savefig(\"cat_total_paid_sum.png\");"
   ]
  },
  {
   "cell_type": "code",
   "execution_count": 555,
   "id": "400f0532-0311-494d-83a2-423bd19a7e96",
   "metadata": {},
   "outputs": [
    {
     "data": {
      "text/html": [
       "<div>\n",
       "<style scoped>\n",
       "    .dataframe tbody tr th:only-of-type {\n",
       "        vertical-align: middle;\n",
       "    }\n",
       "\n",
       "    .dataframe tbody tr th {\n",
       "        vertical-align: top;\n",
       "    }\n",
       "\n",
       "    .dataframe thead th {\n",
       "        text-align: right;\n",
       "    }\n",
       "</style>\n",
       "<table border=\"1\" class=\"dataframe\">\n",
       "  <thead>\n",
       "    <tr style=\"text-align: right;\">\n",
       "      <th></th>\n",
       "      <th>type</th>\n",
       "      <th>discounts_perc_mean</th>\n",
       "      <th>unit_price_total_avg</th>\n",
       "      <th>total_paid_sum</th>\n",
       "      <th>price_mean</th>\n",
       "      <th>unit_price_mean</th>\n",
       "      <th>product_quantity_sum</th>\n",
       "      <th>NumUniqidOrder</th>\n",
       "      <th>NumUniqsku</th>\n",
       "      <th>Name_longest</th>\n",
       "      <th>Descr_longest</th>\n",
       "      <th>category</th>\n",
       "    </tr>\n",
       "  </thead>\n",
       "  <tbody>\n",
       "    <tr>\n",
       "      <th>26</th>\n",
       "      <td>1231</td>\n",
       "      <td>22.0</td>\n",
       "      <td>81.0</td>\n",
       "      <td>201642.0</td>\n",
       "      <td>97.0</td>\n",
       "      <td>76.0</td>\n",
       "      <td>1219</td>\n",
       "      <td>1085</td>\n",
       "      <td>8</td>\n",
       "      <td>IPhone AppleCare Protection Plan</td>\n",
       "      <td>Apple Care extended warranty iPhone.</td>\n",
       "      <td></td>\n",
       "    </tr>\n",
       "  </tbody>\n",
       "</table>\n",
       "</div>"
      ],
      "text/plain": [
       "    type  discounts_perc_mean  unit_price_total_avg  total_paid_sum  \\\n",
       "26  1231                 22.0                  81.0        201642.0   \n",
       "\n",
       "    price_mean  unit_price_mean  product_quantity_sum  NumUniqidOrder  \\\n",
       "26        97.0             76.0                  1219            1085   \n",
       "\n",
       "    NumUniqsku                      Name_longest  \\\n",
       "26           8  IPhone AppleCare Protection Plan   \n",
       "\n",
       "                           Descr_longest category  \n",
       "26  Apple Care extended warranty iPhone.           "
      ]
     },
     "execution_count": 555,
     "metadata": {},
     "output_type": "execute_result"
    }
   ],
   "source": [
    "db_types_my.loc[db_types_my[\"type\"] == \"1231\", :].sample(1)"
   ]
  },
  {
   "cell_type": "code",
   "execution_count": 549,
   "id": "4834cb14-23a8-4bb6-aa68-b370a31d7768",
   "metadata": {},
   "outputs": [
    {
     "ename": "ValueError",
     "evalue": "a must be greater than 0 unless no samples are taken",
     "output_type": "error",
     "traceback": [
      "\u001b[1;31m---------------------------------------------------------------------------\u001b[0m",
      "\u001b[1;31mValueError\u001b[0m                                Traceback (most recent call last)",
      "Input \u001b[1;32mIn [549]\u001b[0m, in \u001b[0;36m<cell line: 1>\u001b[1;34m()\u001b[0m\n\u001b[1;32m----> 1\u001b[0m \u001b[43mdb_types_my\u001b[49m\u001b[38;5;241;43m.\u001b[39;49m\u001b[43mloc\u001b[49m\u001b[43m[\u001b[49m\u001b[43mdb_types_my\u001b[49m\u001b[43m[\u001b[49m\u001b[38;5;124;43m\"\u001b[39;49m\u001b[38;5;124;43mtype\u001b[39;49m\u001b[38;5;124;43m\"\u001b[39;49m\u001b[43m]\u001b[49m\u001b[38;5;241;43m.\u001b[39;49m\u001b[43mstr\u001b[49m\u001b[38;5;241;43m.\u001b[39;49m\u001b[43mcontains\u001b[49m\u001b[43m(\u001b[49m\u001b[38;5;124;43m\"\u001b[39;49m\u001b[38;5;124;43m5,74\u001b[39;49m\u001b[38;5;124;43m\"\u001b[39;49m\u001b[43m)\u001b[49m\u001b[43m,\u001b[49m\u001b[43m \u001b[49m\u001b[43m:\u001b[49m\u001b[43m]\u001b[49m\u001b[38;5;241;43m.\u001b[39;49m\u001b[43msample\u001b[49m\u001b[43m(\u001b[49m\u001b[38;5;241;43m1\u001b[39;49m\u001b[43m)\u001b[49m\n",
      "File \u001b[1;32m~\\Anaconda3\\lib\\site-packages\\pandas\\core\\generic.py:5446\u001b[0m, in \u001b[0;36mNDFrame.sample\u001b[1;34m(self, n, frac, replace, weights, random_state, axis, ignore_index)\u001b[0m\n\u001b[0;32m   5443\u001b[0m \u001b[38;5;28;01mif\u001b[39;00m weights \u001b[38;5;129;01mis\u001b[39;00m \u001b[38;5;129;01mnot\u001b[39;00m \u001b[38;5;28;01mNone\u001b[39;00m:\n\u001b[0;32m   5444\u001b[0m     weights \u001b[38;5;241m=\u001b[39m sample\u001b[38;5;241m.\u001b[39mpreprocess_weights(\u001b[38;5;28mself\u001b[39m, weights, axis)\n\u001b[1;32m-> 5446\u001b[0m sampled_indices \u001b[38;5;241m=\u001b[39m \u001b[43msample\u001b[49m\u001b[38;5;241;43m.\u001b[39;49m\u001b[43msample\u001b[49m\u001b[43m(\u001b[49m\u001b[43mobj_len\u001b[49m\u001b[43m,\u001b[49m\u001b[43m \u001b[49m\u001b[43msize\u001b[49m\u001b[43m,\u001b[49m\u001b[43m \u001b[49m\u001b[43mreplace\u001b[49m\u001b[43m,\u001b[49m\u001b[43m \u001b[49m\u001b[43mweights\u001b[49m\u001b[43m,\u001b[49m\u001b[43m \u001b[49m\u001b[43mrs\u001b[49m\u001b[43m)\u001b[49m\n\u001b[0;32m   5447\u001b[0m result \u001b[38;5;241m=\u001b[39m \u001b[38;5;28mself\u001b[39m\u001b[38;5;241m.\u001b[39mtake(sampled_indices, axis\u001b[38;5;241m=\u001b[39maxis)\n\u001b[0;32m   5449\u001b[0m \u001b[38;5;28;01mif\u001b[39;00m ignore_index:\n",
      "File \u001b[1;32m~\\Anaconda3\\lib\\site-packages\\pandas\\core\\sample.py:150\u001b[0m, in \u001b[0;36msample\u001b[1;34m(obj_len, size, replace, weights, random_state)\u001b[0m\n\u001b[0;32m    147\u001b[0m     \u001b[38;5;28;01melse\u001b[39;00m:\n\u001b[0;32m    148\u001b[0m         \u001b[38;5;28;01mraise\u001b[39;00m \u001b[38;5;167;01mValueError\u001b[39;00m(\u001b[38;5;124m\"\u001b[39m\u001b[38;5;124mInvalid weights: weights sum to zero\u001b[39m\u001b[38;5;124m\"\u001b[39m)\n\u001b[1;32m--> 150\u001b[0m \u001b[38;5;28;01mreturn\u001b[39;00m \u001b[43mrandom_state\u001b[49m\u001b[38;5;241;43m.\u001b[39;49m\u001b[43mchoice\u001b[49m\u001b[43m(\u001b[49m\u001b[43mobj_len\u001b[49m\u001b[43m,\u001b[49m\u001b[43m \u001b[49m\u001b[43msize\u001b[49m\u001b[38;5;241;43m=\u001b[39;49m\u001b[43msize\u001b[49m\u001b[43m,\u001b[49m\u001b[43m \u001b[49m\u001b[43mreplace\u001b[49m\u001b[38;5;241;43m=\u001b[39;49m\u001b[43mreplace\u001b[49m\u001b[43m,\u001b[49m\u001b[43m \u001b[49m\u001b[43mp\u001b[49m\u001b[38;5;241;43m=\u001b[39;49m\u001b[43mweights\u001b[49m\u001b[43m)\u001b[49m\u001b[38;5;241m.\u001b[39mastype(\n\u001b[0;32m    151\u001b[0m     np\u001b[38;5;241m.\u001b[39mintp, copy\u001b[38;5;241m=\u001b[39m\u001b[38;5;28;01mFalse\u001b[39;00m\n\u001b[0;32m    152\u001b[0m )\n",
      "File \u001b[1;32mmtrand.pyx:909\u001b[0m, in \u001b[0;36mnumpy.random.mtrand.RandomState.choice\u001b[1;34m()\u001b[0m\n",
      "\u001b[1;31mValueError\u001b[0m: a must be greater than 0 unless no samples are taken"
     ]
    }
   ],
   "source": [
    "db_types_my.loc[db_types_my[\"type\"].str.contains(\"5,74\"), :].sample(1)"
   ]
  },
  {
   "cell_type": "code",
   "execution_count": 249,
   "id": "c407edee-df69-4540-84a3-c3c7a51a5b7d",
   "metadata": {},
   "outputs": [
    {
     "data": {
      "text/html": [
       "<div>\n",
       "<style scoped>\n",
       "    .dataframe tbody tr th:only-of-type {\n",
       "        vertical-align: middle;\n",
       "    }\n",
       "\n",
       "    .dataframe tbody tr th {\n",
       "        vertical-align: top;\n",
       "    }\n",
       "\n",
       "    .dataframe thead th {\n",
       "        text-align: right;\n",
       "    }\n",
       "</style>\n",
       "<table border=\"1\" class=\"dataframe\">\n",
       "  <thead>\n",
       "    <tr style=\"text-align: right;\">\n",
       "      <th></th>\n",
       "      <th>discounts_perc_mean</th>\n",
       "      <th>unit_price_total_avg</th>\n",
       "      <th>total_paid_sum</th>\n",
       "      <th>price_mean</th>\n",
       "      <th>unit_price_mean</th>\n",
       "      <th>product_quantity_sum</th>\n",
       "      <th>NumUniqidOrder</th>\n",
       "      <th>NumUniqsku</th>\n",
       "    </tr>\n",
       "  </thead>\n",
       "  <tbody>\n",
       "    <tr>\n",
       "      <th>count</th>\n",
       "      <td>114.0</td>\n",
       "      <td>114.0</td>\n",
       "      <td>114.0</td>\n",
       "      <td>114.0</td>\n",
       "      <td>114.0</td>\n",
       "      <td>114.0</td>\n",
       "      <td>114.0</td>\n",
       "      <td>114.0</td>\n",
       "    </tr>\n",
       "    <tr>\n",
       "      <th>mean</th>\n",
       "      <td>20.0</td>\n",
       "      <td>232.0</td>\n",
       "      <td>103475.0</td>\n",
       "      <td>289.0</td>\n",
       "      <td>224.0</td>\n",
       "      <td>526.0</td>\n",
       "      <td>442.0</td>\n",
       "      <td>45.0</td>\n",
       "    </tr>\n",
       "    <tr>\n",
       "      <th>std</th>\n",
       "      <td>15.0</td>\n",
       "      <td>262.0</td>\n",
       "      <td>170116.0</td>\n",
       "      <td>339.0</td>\n",
       "      <td>258.0</td>\n",
       "      <td>886.0</td>\n",
       "      <td>716.0</td>\n",
       "      <td>89.0</td>\n",
       "    </tr>\n",
       "    <tr>\n",
       "      <th>min</th>\n",
       "      <td>-11.0</td>\n",
       "      <td>6.0</td>\n",
       "      <td>97.0</td>\n",
       "      <td>6.0</td>\n",
       "      <td>5.0</td>\n",
       "      <td>1.0</td>\n",
       "      <td>1.0</td>\n",
       "      <td>1.0</td>\n",
       "    </tr>\n",
       "    <tr>\n",
       "      <th>25%</th>\n",
       "      <td>10.0</td>\n",
       "      <td>40.0</td>\n",
       "      <td>6087.0</td>\n",
       "      <td>53.0</td>\n",
       "      <td>39.0</td>\n",
       "      <td>22.0</td>\n",
       "      <td>22.0</td>\n",
       "      <td>5.0</td>\n",
       "    </tr>\n",
       "    <tr>\n",
       "      <th>50%</th>\n",
       "      <td>18.0</td>\n",
       "      <td>96.0</td>\n",
       "      <td>26963.0</td>\n",
       "      <td>110.0</td>\n",
       "      <td>92.0</td>\n",
       "      <td>162.0</td>\n",
       "      <td>159.0</td>\n",
       "      <td>16.0</td>\n",
       "    </tr>\n",
       "    <tr>\n",
       "      <th>75%</th>\n",
       "      <td>27.0</td>\n",
       "      <td>397.0</td>\n",
       "      <td>134105.0</td>\n",
       "      <td>452.0</td>\n",
       "      <td>383.0</td>\n",
       "      <td>714.0</td>\n",
       "      <td>614.0</td>\n",
       "      <td>35.0</td>\n",
       "    </tr>\n",
       "    <tr>\n",
       "      <th>max</th>\n",
       "      <td>76.0</td>\n",
       "      <td>999.0</td>\n",
       "      <td>984454.0</td>\n",
       "      <td>1349.0</td>\n",
       "      <td>999.0</td>\n",
       "      <td>4593.0</td>\n",
       "      <td>3881.0</td>\n",
       "      <td>698.0</td>\n",
       "    </tr>\n",
       "  </tbody>\n",
       "</table>\n",
       "</div>"
      ],
      "text/plain": [
       "       discounts_perc_mean  unit_price_total_avg  total_paid_sum  price_mean  \\\n",
       "count                114.0                 114.0           114.0       114.0   \n",
       "mean                  20.0                 232.0        103475.0       289.0   \n",
       "std                   15.0                 262.0        170116.0       339.0   \n",
       "min                  -11.0                   6.0            97.0         6.0   \n",
       "25%                   10.0                  40.0          6087.0        53.0   \n",
       "50%                   18.0                  96.0         26963.0       110.0   \n",
       "75%                   27.0                 397.0        134105.0       452.0   \n",
       "max                   76.0                 999.0        984454.0      1349.0   \n",
       "\n",
       "       unit_price_mean  product_quantity_sum  NumUniqidOrder  NumUniqsku  \n",
       "count            114.0                 114.0           114.0       114.0  \n",
       "mean             224.0                 526.0           442.0        45.0  \n",
       "std              258.0                 886.0           716.0        89.0  \n",
       "min                5.0                   1.0             1.0         1.0  \n",
       "25%               39.0                  22.0            22.0         5.0  \n",
       "50%               92.0                 162.0           159.0        16.0  \n",
       "75%              383.0                 714.0           614.0        35.0  \n",
       "max              999.0                4593.0          3881.0       698.0  "
      ]
     },
     "execution_count": 249,
     "metadata": {},
     "output_type": "execute_result"
    }
   ],
   "source": [
    "round(db_types_my.describe())"
   ]
  },
  {
   "cell_type": "code",
   "execution_count": 245,
   "id": "ef27b949-cbcf-47c2-a15d-cc39b76723d9",
   "metadata": {},
   "outputs": [
    {
     "data": {
      "text/html": [
       "<div>\n",
       "<style scoped>\n",
       "    .dataframe tbody tr th:only-of-type {\n",
       "        vertical-align: middle;\n",
       "    }\n",
       "\n",
       "    .dataframe tbody tr th {\n",
       "        vertical-align: top;\n",
       "    }\n",
       "\n",
       "    .dataframe thead th {\n",
       "        text-align: right;\n",
       "    }\n",
       "</style>\n",
       "<table border=\"1\" class=\"dataframe\">\n",
       "  <thead>\n",
       "    <tr style=\"text-align: right;\">\n",
       "      <th></th>\n",
       "      <th>type</th>\n",
       "      <th>discounts_perc_mean</th>\n",
       "      <th>unit_price_total_avg</th>\n",
       "      <th>total_paid_sum</th>\n",
       "      <th>price_mean</th>\n",
       "      <th>unit_price_mean</th>\n",
       "      <th>product_quantity_sum</th>\n",
       "      <th>NumUniqidOrder</th>\n",
       "      <th>NumUniqsku</th>\n",
       "      <th>Name_longest</th>\n",
       "      <th>Descr_longest</th>\n",
       "    </tr>\n",
       "  </thead>\n",
       "  <tbody>\n",
       "    <tr>\n",
       "      <th>4</th>\n",
       "      <td>106431714</td>\n",
       "      <td>5.0</td>\n",
       "      <td>806.0</td>\n",
       "      <td>182482.0</td>\n",
       "      <td>845.0</td>\n",
       "      <td>803.0</td>\n",
       "      <td>197</td>\n",
       "      <td>193</td>\n",
       "      <td>20</td>\n",
       "      <td>Open - Apple iPad Pro 10.5 \"Wi-Fi + Cellular 6...</td>\n",
       "      <td>Pro iPad Wi-Fi refitted with 256GB capacity</td>\n",
       "    </tr>\n",
       "  </tbody>\n",
       "</table>\n",
       "</div>"
      ],
      "text/plain": [
       "        type  discounts_perc_mean  unit_price_total_avg  total_paid_sum  \\\n",
       "4  106431714                  5.0                 806.0        182482.0   \n",
       "\n",
       "   price_mean  unit_price_mean  product_quantity_sum  NumUniqidOrder  \\\n",
       "4       845.0            803.0                   197             193   \n",
       "\n",
       "   NumUniqsku                                       Name_longest  \\\n",
       "4          20  Open - Apple iPad Pro 10.5 \"Wi-Fi + Cellular 6...   \n",
       "\n",
       "                                 Descr_longest  \n",
       "4  Pro iPad Wi-Fi refitted with 256GB capacity  "
      ]
     },
     "execution_count": 245,
     "metadata": {},
     "output_type": "execute_result"
    }
   ],
   "source": [
    "#db_types.nlargest(5, 'total_paid_sum')\n",
    "db_types_my.loc[db_types['type']=='106431714', :]"
   ]
  },
  {
   "cell_type": "code",
   "execution_count": 246,
   "id": "09369a2f-5479-4afb-ba1c-440ad4932035",
   "metadata": {},
   "outputs": [
    {
     "data": {
      "text/html": [
       "<div>\n",
       "<style scoped>\n",
       "    .dataframe tbody tr th:only-of-type {\n",
       "        vertical-align: middle;\n",
       "    }\n",
       "\n",
       "    .dataframe tbody tr th {\n",
       "        vertical-align: top;\n",
       "    }\n",
       "\n",
       "    .dataframe thead th {\n",
       "        text-align: right;\n",
       "    }\n",
       "</style>\n",
       "<table border=\"1\" class=\"dataframe\">\n",
       "  <thead>\n",
       "    <tr style=\"text-align: right;\">\n",
       "      <th></th>\n",
       "      <th>created_date</th>\n",
       "      <th>type</th>\n",
       "      <th>discounts_perc_mean</th>\n",
       "      <th>unit_price_total_avg</th>\n",
       "      <th>total_paid_sum</th>\n",
       "      <th>price_mean</th>\n",
       "      <th>unit_price_mean</th>\n",
       "      <th>product_quantity_sum</th>\n",
       "      <th>NumUniqidOrder</th>\n",
       "      <th>NumUniqsku</th>\n",
       "      <th>Name_longest</th>\n",
       "      <th>Descr_longest</th>\n",
       "    </tr>\n",
       "  </thead>\n",
       "  <tbody>\n",
       "    <tr>\n",
       "      <th>0</th>\n",
       "      <td>2017-01</td>\n",
       "      <td>1,44E+11</td>\n",
       "      <td>-20.0</td>\n",
       "      <td>67.0</td>\n",
       "      <td>1029.0</td>\n",
       "      <td>55.0</td>\n",
       "      <td>67.0</td>\n",
       "      <td>11</td>\n",
       "      <td>10</td>\n",
       "      <td>6</td>\n",
       "      <td>iPhone 5s battery repair</td>\n",
       "      <td>Repair service including parts and labor for i...</td>\n",
       "    </tr>\n",
       "    <tr>\n",
       "      <th>1</th>\n",
       "      <td>2017-01</td>\n",
       "      <td>10142</td>\n",
       "      <td>19.0</td>\n",
       "      <td>104.0</td>\n",
       "      <td>7488.0</td>\n",
       "      <td>124.0</td>\n",
       "      <td>100.0</td>\n",
       "      <td>54</td>\n",
       "      <td>51</td>\n",
       "      <td>13</td>\n",
       "      <td>NewerTech NuPower battery MacBook Pro 17 \"(200...</td>\n",
       "      <td>lithium battery and 7.6V 39W MacBook Air 11 in...</td>\n",
       "    </tr>\n",
       "  </tbody>\n",
       "</table>\n",
       "</div>"
      ],
      "text/plain": [
       "  created_date      type  discounts_perc_mean  unit_price_total_avg  \\\n",
       "0      2017-01  1,44E+11                -20.0                  67.0   \n",
       "1      2017-01     10142                 19.0                 104.0   \n",
       "\n",
       "   total_paid_sum  price_mean  unit_price_mean  product_quantity_sum  \\\n",
       "0          1029.0        55.0             67.0                    11   \n",
       "1          7488.0       124.0            100.0                    54   \n",
       "\n",
       "   NumUniqidOrder  NumUniqsku  \\\n",
       "0              10           6   \n",
       "1              51          13   \n",
       "\n",
       "                                        Name_longest  \\\n",
       "0                           iPhone 5s battery repair   \n",
       "1  NewerTech NuPower battery MacBook Pro 17 \"(200...   \n",
       "\n",
       "                                       Descr_longest  \n",
       "0  Repair service including parts and labor for i...  \n",
       "1  lithium battery and 7.6V 39W MacBook Air 11 in...  "
      ]
     },
     "execution_count": 246,
     "metadata": {},
     "output_type": "execute_result"
    }
   ],
   "source": [
    "db_types_time.head(2)"
   ]
  },
  {
   "cell_type": "code",
   "execution_count": 65,
   "id": "d6988776-d892-47a1-9d7f-d79ed105e51b",
   "metadata": {},
   "outputs": [
    {
     "data": {
      "text/html": [
       "<div>\n",
       "<style scoped>\n",
       "    .dataframe tbody tr th:only-of-type {\n",
       "        vertical-align: middle;\n",
       "    }\n",
       "\n",
       "    .dataframe tbody tr th {\n",
       "        vertical-align: top;\n",
       "    }\n",
       "\n",
       "    .dataframe thead th {\n",
       "        text-align: right;\n",
       "    }\n",
       "</style>\n",
       "<table border=\"1\" class=\"dataframe\">\n",
       "  <thead>\n",
       "    <tr style=\"text-align: right;\">\n",
       "      <th></th>\n",
       "      <th>product_quantity</th>\n",
       "      <th>unit_price</th>\n",
       "      <th>unit_price_total</th>\n",
       "      <th>price</th>\n",
       "      <th>discounts</th>\n",
       "    </tr>\n",
       "    <tr>\n",
       "      <th>id_order</th>\n",
       "      <th></th>\n",
       "      <th></th>\n",
       "      <th></th>\n",
       "      <th></th>\n",
       "      <th></th>\n",
       "    </tr>\n",
       "  </thead>\n",
       "  <tbody>\n",
       "    <tr>\n",
       "      <th>241423</th>\n",
       "      <td>1</td>\n",
       "      <td>129.16</td>\n",
       "      <td>129.16</td>\n",
       "      <td>139.99</td>\n",
       "      <td>10.83</td>\n",
       "    </tr>\n",
       "    <tr>\n",
       "      <th>242832</th>\n",
       "      <td>1</td>\n",
       "      <td>10.77</td>\n",
       "      <td>10.77</td>\n",
       "      <td>17.99</td>\n",
       "      <td>7.22</td>\n",
       "    </tr>\n",
       "    <tr>\n",
       "      <th>243330</th>\n",
       "      <td>1</td>\n",
       "      <td>77.99</td>\n",
       "      <td>77.99</td>\n",
       "      <td>99.99</td>\n",
       "      <td>22.00</td>\n",
       "    </tr>\n",
       "    <tr>\n",
       "      <th>245275</th>\n",
       "      <td>1</td>\n",
       "      <td>149.00</td>\n",
       "      <td>149.00</td>\n",
       "      <td>179.00</td>\n",
       "      <td>30.00</td>\n",
       "    </tr>\n",
       "    <tr>\n",
       "      <th>245595</th>\n",
       "      <td>2</td>\n",
       "      <td>52.99</td>\n",
       "      <td>105.98</td>\n",
       "      <td>103.95</td>\n",
       "      <td>50.96</td>\n",
       "    </tr>\n",
       "  </tbody>\n",
       "</table>\n",
       "</div>"
      ],
      "text/plain": [
       "          product_quantity  unit_price  unit_price_total   price  discounts\n",
       "id_order                                                                   \n",
       "241423                   1      129.16            129.16  139.99      10.83\n",
       "242832                   1       10.77             10.77   17.99       7.22\n",
       "243330                   1       77.99             77.99   99.99      22.00\n",
       "245275                   1      149.00            149.00  179.00      30.00\n",
       "245595                   2       52.99            105.98  103.95      50.96"
      ]
     },
     "execution_count": 65,
     "metadata": {},
     "output_type": "execute_result"
    }
   ],
   "source": [
    "orderlines_products_merge.groupby([\"id_order\"]).sum().head()   #  .shape  (40985, 5)"
   ]
  },
  {
   "cell_type": "code",
   "execution_count": 71,
   "id": "61b7069f-119e-434f-993c-1a355ed9f6e4",
   "metadata": {},
   "outputs": [],
   "source": [
    "orderlines_products_merge[\"date\"] = pd.to_datetime(orderlines_products_merge[\"date\"])"
   ]
  },
  {
   "cell_type": "code",
   "execution_count": 73,
   "id": "f0456aa5-dac2-47b6-8e1d-92a8bbea74fe",
   "metadata": {},
   "outputs": [
    {
     "data": {
      "text/plain": [
       "<AxesSubplot:xlabel='date,date'>"
      ]
     },
     "execution_count": 73,
     "metadata": {},
     "output_type": "execute_result"
    },
    {
     "data": {
      "image/png": "[encoded data removed]",
      "text/plain": [
       "<Figure size 576x288 with 1 Axes>"
      ]
     },
     "metadata": {
      "needs_background": "light"
     },
     "output_type": "display_data"
    }
   ],
   "source": [
    "orderlines_products_merge.groupby([orderlines_products_merge[\"date\"].dt.year, orderlines_products_merge[\"date\"].dt.month])[\"discounts\"].sum().plot(figsize=(8,4))"
   ]
  },
  {
   "cell_type": "code",
   "execution_count": 70,
   "id": "d96eeb31-489e-445c-8361-ace4604cd058",
   "metadata": {},
   "outputs": [
    {
     "name": "stdout",
     "output_type": "stream",
     "text": [
      "<class 'pandas.core.frame.DataFrame'>\n",
      "Int64Index: 53231 entries, 0 to 53230\n",
      "Data columns (total 11 columns):\n",
      " #   Column            Non-Null Count  Dtype  \n",
      "---  ------            --------------  -----  \n",
      " 0   id_order          53231 non-null  int64  \n",
      " 1   product_quantity  53231 non-null  int64  \n",
      " 2   sku               53231 non-null  object \n",
      " 3   unit_price        53231 non-null  float64\n",
      " 4   date              53231 non-null  object \n",
      " 5   unit_price_total  53231 non-null  float64\n",
      " 6   name              53231 non-null  object \n",
      " 7   desc              53231 non-null  object \n",
      " 8   price             53231 non-null  float64\n",
      " 9   type              53220 non-null  object \n",
      " 10  discounts         53231 non-null  float64\n",
      "dtypes: float64(4), int64(2), object(5)\n",
      "memory usage: 4.9+ MB\n"
     ]
    }
   ],
   "source": [
    "orderlines_products_merge.info()"
   ]
  },
  {
   "cell_type": "code",
   "execution_count": 76,
   "id": "41b3d9b3-3da5-4685-a07f-bc0468794a2d",
   "metadata": {},
   "outputs": [],
   "source": [
    "orderlines_products_merge.to_csv('orderlines_products_merge.csv')"
   ]
  },
  {
   "cell_type": "code",
   "execution_count": 77,
   "id": "208ef98b-9c3b-45a9-b52d-ccc53ba8936f",
   "metadata": {},
   "outputs": [
    {
     "data": {
      "text/plain": [
       "<bound method DataFrame.info of        id_order  product_quantity        sku  unit_price                date  \\\n",
       "0        299545                 1    OWC0100       47.49 2017-01-01 01:46:16   \n",
       "1        299404                 1    OWC0100       47.49 2017-01-01 22:50:39   \n",
       "2        300650                 1    OWC0100       49.99 2017-01-02 15:31:09   \n",
       "3        300760                 1    OWC0100       49.99 2017-01-02 17:20:31   \n",
       "4        301975                 1    OWC0100       49.99 2017-01-03 20:04:54   \n",
       "...         ...               ...        ...         ...                 ...   \n",
       "53226    526003                 1    NET0028      404.99 2018-03-12 15:59:19   \n",
       "53227    526066                 1    WAC0254       83.99 2018-03-12 17:45:42   \n",
       "53228    526093                 1    WAC0252       83.99 2018-03-12 18:32:29   \n",
       "53229    526440                 1    PAC2235      878.18 2018-03-13 15:08:27   \n",
       "53230    526512                 1  DLK0044-A       84.32 2018-03-13 16:19:18   \n",
       "\n",
       "       unit_price_total                                               name  \\\n",
       "0                 47.49  OWC In-line Digital Temperature Sensor Kit HDD...   \n",
       "1                 47.49  OWC In-line Digital Temperature Sensor Kit HDD...   \n",
       "2                 49.99  OWC In-line Digital Temperature Sensor Kit HDD...   \n",
       "3                 49.99  OWC In-line Digital Temperature Sensor Kit HDD...   \n",
       "4                 49.99  OWC In-line Digital Temperature Sensor Kit HDD...   \n",
       "...                 ...                                                ...   \n",
       "53226            404.99  Netgear Wifi Orbi System kit and satellite net...   \n",
       "53227             83.99  Education - Wacom Intuos Graphics Tablet S Blu...   \n",
       "53228             83.99  Education - Wacom Intuos Graphics Tablet S Blu...   \n",
       "53229            878.18  Synology DS218 + NAS Server | 6GB RAM | 16TB (...   \n",
       "53230             84.32  Open - D-Link DCS-5020L wireless surveillance ...   \n",
       "\n",
       "                                                    desc    price      type  \\\n",
       "0      Kit temperature sensor for HDD iMac 21 inch an...    60.99  12755395   \n",
       "1      Kit temperature sensor for HDD iMac 21 inch an...    60.99  12755395   \n",
       "2      Kit temperature sensor for HDD iMac 21 inch an...    60.99  12755395   \n",
       "3      Kit temperature sensor for HDD iMac 21 inch an...    60.99  12755395   \n",
       "4      Kit temperature sensor for HDD iMac 21 inch an...    60.99  12755395   \n",
       "...                                                  ...      ...       ...   \n",
       "53226  System RBK50 Mesh WiFi network kit compact and...   429.99      1334   \n",
       "53227  small-edge graphics tablet with Bluetooth inte...    99.00      1405   \n",
       "53228  small-edge graphics tablet with Bluetooth inte...    99.00      1405   \n",
       "53229  NAS storage server integrated with special foc...  1124.98  12175397   \n",
       "53230  Reconditioned surveillance camera with Wi-Fi r...   139.99      9094   \n",
       "\n",
       "       discounts  \n",
       "0          13.50  \n",
       "1          13.50  \n",
       "2          11.00  \n",
       "3          11.00  \n",
       "4          11.00  \n",
       "...          ...  \n",
       "53226      25.00  \n",
       "53227      15.01  \n",
       "53228      15.01  \n",
       "53229     246.80  \n",
       "53230      55.67  \n",
       "\n",
       "[53231 rows x 11 columns]>"
      ]
     },
     "execution_count": 77,
     "metadata": {},
     "output_type": "execute_result"
    }
   ],
   "source": [
    "orderlines_products_merge.groupby([\"id_order\"]).[\"date\"].agg.dt.date"
   ]
  },
  {
   "cell_type": "code",
   "execution_count": 629,
   "id": "a072c541-0124-4e48-8753-524de9589239",
   "metadata": {},
   "outputs": [
    {
     "data": {
      "text/html": [
       "<div>\n",
       "<style scoped>\n",
       "    .dataframe tbody tr th:only-of-type {\n",
       "        vertical-align: middle;\n",
       "    }\n",
       "\n",
       "    .dataframe tbody tr th {\n",
       "        vertical-align: top;\n",
       "    }\n",
       "\n",
       "    .dataframe thead th {\n",
       "        text-align: right;\n",
       "    }\n",
       "</style>\n",
       "<table border=\"1\" class=\"dataframe\">\n",
       "  <thead>\n",
       "    <tr style=\"text-align: right;\">\n",
       "      <th></th>\n",
       "      <th>created_date</th>\n",
       "      <th>type</th>\n",
       "      <th>discounts_perc_mean</th>\n",
       "      <th>unit_price_total_avg</th>\n",
       "      <th>total_paid_sum</th>\n",
       "      <th>price_mean</th>\n",
       "      <th>unit_price_mean</th>\n",
       "      <th>product_quantity_sum</th>\n",
       "      <th>NumUniqidOrder</th>\n",
       "      <th>NumUniqsku</th>\n",
       "      <th>Name_longest</th>\n",
       "      <th>Descr_longest</th>\n",
       "    </tr>\n",
       "  </thead>\n",
       "  <tbody>\n",
       "    <tr>\n",
       "      <th>0</th>\n",
       "      <td>2017-01</td>\n",
       "      <td>1,44E+11</td>\n",
       "      <td>-20.0</td>\n",
       "      <td>67.0</td>\n",
       "      <td>1029.0</td>\n",
       "      <td>55.0</td>\n",
       "      <td>67.0</td>\n",
       "      <td>11</td>\n",
       "      <td>10</td>\n",
       "      <td>6</td>\n",
       "      <td>iPhone 5s battery repair</td>\n",
       "      <td>Repair service including parts and labor for i...</td>\n",
       "    </tr>\n",
       "    <tr>\n",
       "      <th>1</th>\n",
       "      <td>2017-01</td>\n",
       "      <td>10142</td>\n",
       "      <td>19.0</td>\n",
       "      <td>104.0</td>\n",
       "      <td>7488.0</td>\n",
       "      <td>124.0</td>\n",
       "      <td>100.0</td>\n",
       "      <td>54</td>\n",
       "      <td>51</td>\n",
       "      <td>13</td>\n",
       "      <td>NewerTech NuPower battery MacBook Pro 17 \"(200...</td>\n",
       "      <td>lithium battery and 7.6V 39W MacBook Air 11 in...</td>\n",
       "    </tr>\n",
       "  </tbody>\n",
       "</table>\n",
       "</div>"
      ],
      "text/plain": [
       "  created_date      type  discounts_perc_mean  unit_price_total_avg  \\\n",
       "0      2017-01  1,44E+11                -20.0                  67.0   \n",
       "1      2017-01     10142                 19.0                 104.0   \n",
       "\n",
       "   total_paid_sum  price_mean  unit_price_mean  product_quantity_sum  \\\n",
       "0          1029.0        55.0             67.0                    11   \n",
       "1          7488.0       124.0            100.0                    54   \n",
       "\n",
       "   NumUniqidOrder  NumUniqsku  \\\n",
       "0              10           6   \n",
       "1              51          13   \n",
       "\n",
       "                                        Name_longest  \\\n",
       "0                           iPhone 5s battery repair   \n",
       "1  NewerTech NuPower battery MacBook Pro 17 \"(200...   \n",
       "\n",
       "                                       Descr_longest  \n",
       "0  Repair service including parts and labor for i...  \n",
       "1  lithium battery and 7.6V 39W MacBook Air 11 in...  "
      ]
     },
     "execution_count": 629,
     "metadata": {},
     "output_type": "execute_result"
    }
   ],
   "source": [
    "db_types_time.head(2)"
   ]
  },
  {
   "cell_type": "code",
   "execution_count": null,
   "id": "8568e8a9-0acb-4a93-ab6b-8d135245e18a",
   "metadata": {},
   "outputs": [],
   "source": []
  },
  {
   "cell_type": "code",
   "execution_count": 638,
   "id": "cefc3f7f-4ce5-4488-86d0-18ce6abd02a6",
   "metadata": {},
   "outputs": [],
   "source": [
    "from matplotlib import pyplot as plt"
   ]
  },
  {
   "cell_type": "code",
   "execution_count": 648,
   "id": "f308b315-cad6-4fa8-addd-6682150f8724",
   "metadata": {},
   "outputs": [
    {
     "data": {
      "image/png": "[encoded data removed]",
      "text/plain": [
       "<Figure size 864x288 with 1 Axes>"
      ]
     },
     "metadata": {
      "needs_background": "light"
     },
     "output_type": "display_data"
    }
   ],
   "source": [
    "g = sns.relplot(data=db_types_time, y='total_paid_sum', x='created_date', kind='line')\n",
    "g.fig.set_figwidth(12)\n",
    "g.fig.set_figheight(4)\n",
    "#plt.figure(figsize=(5,20));"
   ]
  },
  {
   "cell_type": "code",
   "execution_count": 661,
   "id": "51d3a5b2-8cf2-4e63-987c-ac8ebcad6cdf",
   "metadata": {},
   "outputs": [
    {
     "data": {
      "image/png": "[encoded data removed]",
      "text/plain": [
       "<Figure size 864x288 with 1 Axes>"
      ]
     },
     "metadata": {
      "needs_background": "light"
     },
     "output_type": "display_data"
    }
   ],
   "source": [
    "g = sns.relplot(data=db_types_time, y='discounts_perc_mean', x='created_date', kind='line')\n",
    "g.fig.set_figwidth(12)\n",
    "g.fig.set_figheight(4)"
   ]
  },
  {
   "cell_type": "code",
   "execution_count": 653,
   "id": "db64fa34-29da-498b-a21d-c9ded06f9d20",
   "metadata": {},
   "outputs": [],
   "source": [
    "type118 = db_types_time.loc[db_types_time[\"type\"] == \"11865403\", :]"
   ]
  },
  {
   "cell_type": "code",
   "execution_count": 656,
   "id": "f502fc81-718a-4d37-ae7b-a1a12f2730e6",
   "metadata": {},
   "outputs": [
    {
     "data": {
      "image/png": "[encoded data removed]",
      "text/plain": [
       "<Figure size 864x288 with 1 Axes>"
      ]
     },
     "metadata": {
      "needs_background": "light"
     },
     "output_type": "display_data"
    }
   ],
   "source": [
    "g = sns.relplot(data=type118, y='discounts_perc_mean', x='created_date', kind='line')\n",
    "g.fig.set_figwidth(12)\n",
    "g.fig.set_figheight(4)"
   ]
  },
  {
   "cell_type": "code",
   "execution_count": null,
   "id": "40b01bcd-19f8-4f49-9c6e-a0315eaa5a03",
   "metadata": {},
   "outputs": [],
   "source": [
    "db_types_time['type'] = pd.to_numeric(db_types_time['type'], errors='coerce').astype('float')"
   ]
  },
  {
   "cell_type": "code",
   "execution_count": 684,
   "id": "71d43162-7bab-4c9b-be46-cdca30105578",
   "metadata": {},
   "outputs": [
    {
     "data": {
      "image/png": "[encoded data removed]",
      "text/plain": [
       "<Figure size 648x216 with 1 Axes>"
      ]
     },
     "metadata": {
      "needs_background": "light"
     },
     "output_type": "display_data"
    },
    {
     "data": {
      "image/png": "[encoded data removed]",
      "text/plain": [
       "<Figure size 648x216 with 1 Axes>"
      ]
     },
     "metadata": {
      "needs_background": "light"
     },
     "output_type": "display_data"
    },
    {
     "data": {
      "image/png": "[encoded data removed]",
      "text/plain": [
       "<Figure size 648x216 with 1 Axes>"
      ]
     },
     "metadata": {
      "needs_background": "light"
     },
     "output_type": "display_data"
    },
    {
     "data": {
      "image/png": "[encoded data removed]",
      "text/plain": [
       "<Figure size 648x216 with 1 Axes>"
      ]
     },
     "metadata": {
      "needs_background": "light"
     },
     "output_type": "display_data"
    },
    {
     "data": {
      "image/png": "[encoded data removed]",
      "text/plain": [
       "<Figure size 648x216 with 1 Axes>"
      ]
     },
     "metadata": {
      "needs_background": "light"
     },
     "output_type": "display_data"
    },
    {
     "data": {
      "image/png": "[encoded data removed]",
      "text/plain": [
       "<Figure size 648x216 with 1 Axes>"
      ]
     },
     "metadata": {
      "needs_background": "light"
     },
     "output_type": "display_data"
    },
    {
     "data": {
      "image/png": "[encoded data removed]",
      "text/plain": [
       "<Figure size 648x216 with 1 Axes>"
      ]
     },
     "metadata": {
      "needs_background": "light"
     },
     "output_type": "display_data"
    },
    {
     "data": {
      "image/png": "[encoded data removed]",
      "text/plain": [
       "<Figure size 648x216 with 1 Axes>"
      ]
     },
     "metadata": {
      "needs_background": "light"
     },
     "output_type": "display_data"
    },
    {
     "data": {
      "image/png": "[encoded data removed]",
      "text/plain": [
       "<Figure size 648x216 with 1 Axes>"
      ]
     },
     "metadata": {
      "needs_background": "light"
     },
     "output_type": "display_data"
    }
   ],
   "source": [
    "for col in db_types_time.columns:\n",
    "    if (col == \"created_date\"\n",
    "    or col == \"Name_longest\"\n",
    "    or col == \"Descr_longest\"):\n",
    "        continue\n",
    "    df=db_types_time.nlargest(40, columns=col)\n",
    "    ordx=db_types_time.nlargest(40, columns=col).index\n",
    "    sns.catplot(data=df,\n",
    "                kind=\"bar\",\n",
    "                x=\"type\",\n",
    "                y=col,\n",
    "                legend=False,\n",
    "                color=\"blue\",\n",
    "             #   pallete=\"plasma\",\n",
    "                height=3,\n",
    "                aspect=3)\n",
    "plt.show()"
   ]
  },
  {
   "cell_type": "code",
   "execution_count": 685,
   "id": "e04644af-d96e-4275-a980-19e1dfbcf4a8",
   "metadata": {},
   "outputs": [
    {
     "data": {
      "text/plain": [
       "<seaborn.axisgrid.FacetGrid at 0x1f894fc8ac0>"
      ]
     },
     "execution_count": 685,
     "metadata": {},
     "output_type": "execute_result"
    },
    {
     "data": {
      "image/png": "[encoded data removed]",
      "text/plain": [
       "<Figure size 360x360 with 1 Axes>"
      ]
     },
     "metadata": {
      "needs_background": "light"
     },
     "output_type": "display_data"
    }
   ],
   "source": [
    "sns.relplot(data=db_types_time,\n",
    "           kind=\"line\",\n",
    "           x=\"discounts_perc_mean\",\n",
    "           y=\"total_paid_sum\")"
   ]
  },
  {
   "cell_type": "code",
   "execution_count": 666,
   "id": "0d1bdbd2-3ffe-48bb-bf07-cdbfb8595332",
   "metadata": {},
   "outputs": [
    {
     "name": "stdout",
     "output_type": "stream",
     "text": [
      "<class 'pandas.core.frame.DataFrame'>\n",
      "RangeIndex: 1275 entries, 0 to 1274\n",
      "Data columns (total 12 columns):\n",
      " #   Column                Non-Null Count  Dtype  \n",
      "---  ------                --------------  -----  \n",
      " 0   created_date          1275 non-null   object \n",
      " 1   type                  1275 non-null   object \n",
      " 2   discounts_perc_mean   1275 non-null   float64\n",
      " 3   unit_price_total_avg  1275 non-null   float64\n",
      " 4   total_paid_sum        1275 non-null   float64\n",
      " 5   price_mean            1275 non-null   float64\n",
      " 6   unit_price_mean       1275 non-null   float64\n",
      " 7   product_quantity_sum  1275 non-null   int64  \n",
      " 8   NumUniqidOrder        1275 non-null   int64  \n",
      " 9   NumUniqsku            1275 non-null   int64  \n",
      " 10  Name_longest          1275 non-null   object \n",
      " 11  Descr_longest         1275 non-null   object \n",
      "dtypes: float64(5), int64(3), object(4)\n",
      "memory usage: 119.7+ KB\n"
     ]
    }
   ],
   "source": [
    "db_types_time.info()df['Customer Number'].astype('int')"
   ]
  },
  {
   "cell_type": "code",
   "execution_count": 671,
   "id": "1a23698d-8ec8-4d0c-bfd6-a44b2d1c8b6c",
   "metadata": {},
   "outputs": [],
   "source": [
    "db_types_time['type'] = pd.to_numeric(db_types_time['type'], errors='coerce').astype('float')"
   ]
  },
  {
   "cell_type": "code",
   "execution_count": 674,
   "id": "47dbfb1b-2b16-41a5-af61-fa06e29d917d",
   "metadata": {},
   "outputs": [
    {
     "data": {
      "text/html": [
       "<div>\n",
       "<style scoped>\n",
       "    .dataframe tbody tr th:only-of-type {\n",
       "        vertical-align: middle;\n",
       "    }\n",
       "\n",
       "    .dataframe tbody tr th {\n",
       "        vertical-align: top;\n",
       "    }\n",
       "\n",
       "    .dataframe thead th {\n",
       "        text-align: right;\n",
       "    }\n",
       "</style>\n",
       "<table border=\"1\" class=\"dataframe\">\n",
       "  <thead>\n",
       "    <tr style=\"text-align: right;\">\n",
       "      <th></th>\n",
       "      <th>created_date</th>\n",
       "      <th>type</th>\n",
       "      <th>discounts_perc_mean</th>\n",
       "      <th>unit_price_total_avg</th>\n",
       "      <th>total_paid_sum</th>\n",
       "      <th>price_mean</th>\n",
       "      <th>unit_price_mean</th>\n",
       "      <th>product_quantity_sum</th>\n",
       "      <th>NumUniqidOrder</th>\n",
       "      <th>NumUniqsku</th>\n",
       "      <th>Name_longest</th>\n",
       "      <th>Descr_longest</th>\n",
       "    </tr>\n",
       "  </thead>\n",
       "  <tbody>\n",
       "    <tr>\n",
       "      <th>0</th>\n",
       "      <td>2017-01</td>\n",
       "      <td>NaN</td>\n",
       "      <td>-20.0</td>\n",
       "      <td>67.0</td>\n",
       "      <td>1029.0</td>\n",
       "      <td>55.0</td>\n",
       "      <td>67.0</td>\n",
       "      <td>11</td>\n",
       "      <td>10</td>\n",
       "      <td>6</td>\n",
       "      <td>iPhone 5s battery repair</td>\n",
       "      <td>Repair service including parts and labor for i...</td>\n",
       "    </tr>\n",
       "    <tr>\n",
       "      <th>1</th>\n",
       "      <td>2017-01</td>\n",
       "      <td>10142.0</td>\n",
       "      <td>19.0</td>\n",
       "      <td>104.0</td>\n",
       "      <td>7488.0</td>\n",
       "      <td>124.0</td>\n",
       "      <td>100.0</td>\n",
       "      <td>54</td>\n",
       "      <td>51</td>\n",
       "      <td>13</td>\n",
       "      <td>NewerTech NuPower battery MacBook Pro 17 \"(200...</td>\n",
       "      <td>lithium battery and 7.6V 39W MacBook Air 11 in...</td>\n",
       "    </tr>\n",
       "    <tr>\n",
       "      <th>2</th>\n",
       "      <td>2017-01</td>\n",
       "      <td>101781405.0</td>\n",
       "      <td>5.0</td>\n",
       "      <td>20.0</td>\n",
       "      <td>960.0</td>\n",
       "      <td>19.0</td>\n",
       "      <td>18.0</td>\n",
       "      <td>19</td>\n",
       "      <td>14</td>\n",
       "      <td>3</td>\n",
       "      <td>Wacom parts 5 points for CTH670</td>\n",
       "      <td>Wireless Kit Wacom graphics tablets.</td>\n",
       "    </tr>\n",
       "  </tbody>\n",
       "</table>\n",
       "</div>"
      ],
      "text/plain": [
       "  created_date         type  discounts_perc_mean  unit_price_total_avg  \\\n",
       "0      2017-01          NaN                -20.0                  67.0   \n",
       "1      2017-01      10142.0                 19.0                 104.0   \n",
       "2      2017-01  101781405.0                  5.0                  20.0   \n",
       "\n",
       "   total_paid_sum  price_mean  unit_price_mean  product_quantity_sum  \\\n",
       "0          1029.0        55.0             67.0                    11   \n",
       "1          7488.0       124.0            100.0                    54   \n",
       "2           960.0        19.0             18.0                    19   \n",
       "\n",
       "   NumUniqidOrder  NumUniqsku  \\\n",
       "0              10           6   \n",
       "1              51          13   \n",
       "2              14           3   \n",
       "\n",
       "                                        Name_longest  \\\n",
       "0                           iPhone 5s battery repair   \n",
       "1  NewerTech NuPower battery MacBook Pro 17 \"(200...   \n",
       "2                    Wacom parts 5 points for CTH670   \n",
       "\n",
       "                                       Descr_longest  \n",
       "0  Repair service including parts and labor for i...  \n",
       "1  lithium battery and 7.6V 39W MacBook Air 11 in...  \n",
       "2               Wireless Kit Wacom graphics tablets.  "
      ]
     },
     "execution_count": 674,
     "metadata": {},
     "output_type": "execute_result"
    }
   ],
   "source": [
    "db_types_time.head(3)"
   ]
  }
 ],
 "metadata": {
  "kernelspec": {
   "display_name": "Python 3 (ipykernel)",
   "language": "python",
   "name": "python3"
  },
  "language_info": {
   "codemirror_mode": {
    "name": "ipython",
    "version": 3
   },
   "file_extension": ".py",
   "mimetype": "text/x-python",
   "name": "python",
   "nbconvert_exporter": "python",
   "pygments_lexer": "ipython3",
   "version": "3.9.12"
  }
 },
 "nbformat": 4,
 "nbformat_minor": 5
}
